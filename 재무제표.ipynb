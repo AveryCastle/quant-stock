{
 "cells": [
  {
   "cell_type": "code",
   "execution_count": 1,
   "metadata": {},
   "outputs": [],
   "source": [
    "import pandas as pd"
   ]
  },
  {
   "cell_type": "code",
   "execution_count": 68,
   "metadata": {},
   "outputs": [
    {
     "name": "stdout",
     "output_type": "stream",
     "text": [
      "(777, 9)\n",
      "(1269, 9)\n",
      "(149, 9)\n"
     ]
    }
   ],
   "source": [
    "# kospi(유가증권)\n",
    "#kospi_df = pd.read_html('http://kind.krx.co.kr/corpgeneral/corpList.do?method=download&searchType=13&marketType=stockMkt', index_col=[\"종목코드\"], header=0)[0]\n",
    "kospi_df = pd.read_html('http://kind.krx.co.kr/corpgeneral/corpList.do?method=download&searchType=13&marketType=stockMkt', header=0)[0]\n",
    "print(kospi_df.shape)\n",
    "# kosdaq\n",
    "kosdaq_df = pd.read_html('http://kind.krx.co.kr/corpgeneral/corpList.do?method=download&searchType=13&marketType=kosdaqMkt', header=0)[0]\n",
    "print(kosdaq_df.shape)\n",
    "# konexMkt\n",
    "konex_df = pd.read_html('http://kind.krx.co.kr/corpgeneral/corpList.do?method=download&searchType=13&marketType=konexMkt', header=0)[0]\n",
    "print(konex_df.shape)"
   ]
  },
  {
   "cell_type": "code",
   "execution_count": 69,
   "metadata": {},
   "outputs": [],
   "source": [
    "kospi_df['marketType'] = 'kospi'"
   ]
  },
  {
   "cell_type": "code",
   "execution_count": 70,
   "metadata": {},
   "outputs": [],
   "source": [
    "kosdaq_df['marketType'] = 'kosdaq'"
   ]
  },
  {
   "cell_type": "code",
   "execution_count": 71,
   "metadata": {},
   "outputs": [],
   "source": [
    "konex_df['marketType'] = 'konex'"
   ]
  },
  {
   "cell_type": "code",
   "execution_count": 76,
   "metadata": {},
   "outputs": [
    {
     "name": "stdout",
     "output_type": "stream",
     "text": [
      "(2195, 10)\n"
     ]
    }
   ],
   "source": [
    "frames = [kospi_df, kosdaq_df, konex_df]\n",
    "stock_df = pd.concat(frames, ignore_index=True)\n",
    "print(stock_df.shape)"
   ]
  },
  {
   "cell_type": "code",
   "execution_count": 77,
   "metadata": {},
   "outputs": [],
   "source": [
    "stock_df['종목코드'] = stock_df['종목코드'].apply(lambda x: str(x).zfill(6))"
   ]
  },
  {
   "cell_type": "code",
   "execution_count": 78,
   "metadata": {},
   "outputs": [
    {
     "name": "stdout",
     "output_type": "stream",
     "text": [
      "(2195, 5)\n"
     ]
    },
    {
     "data": {
      "text/html": [
       "<div>\n",
       "<style scoped>\n",
       "    .dataframe tbody tr th:only-of-type {\n",
       "        vertical-align: middle;\n",
       "    }\n",
       "\n",
       "    .dataframe tbody tr th {\n",
       "        vertical-align: top;\n",
       "    }\n",
       "\n",
       "    .dataframe thead th {\n",
       "        text-align: right;\n",
       "    }\n",
       "</style>\n",
       "<table border=\"1\" class=\"dataframe\">\n",
       "  <thead>\n",
       "    <tr style=\"text-align: right;\">\n",
       "      <th></th>\n",
       "      <th>회사명</th>\n",
       "      <th>종목코드</th>\n",
       "      <th>업종</th>\n",
       "      <th>결산월</th>\n",
       "      <th>marketType</th>\n",
       "    </tr>\n",
       "  </thead>\n",
       "  <tbody>\n",
       "    <tr>\n",
       "      <th>2190</th>\n",
       "      <td>유디피</td>\n",
       "      <td>091270</td>\n",
       "      <td>소프트웨어 개발 및 공급업</td>\n",
       "      <td>12월</td>\n",
       "      <td>konex</td>\n",
       "    </tr>\n",
       "    <tr>\n",
       "      <th>2191</th>\n",
       "      <td>젠큐릭스</td>\n",
       "      <td>229000</td>\n",
       "      <td>의료용 기기 제조업</td>\n",
       "      <td>12월</td>\n",
       "      <td>konex</td>\n",
       "    </tr>\n",
       "    <tr>\n",
       "      <th>2192</th>\n",
       "      <td>청광종건</td>\n",
       "      <td>140290</td>\n",
       "      <td>토목 건설업</td>\n",
       "      <td>12월</td>\n",
       "      <td>konex</td>\n",
       "    </tr>\n",
       "    <tr>\n",
       "      <th>2193</th>\n",
       "      <td>탈모닷컴</td>\n",
       "      <td>284610</td>\n",
       "      <td>기타 화학제품 제조업</td>\n",
       "      <td>12월</td>\n",
       "      <td>konex</td>\n",
       "    </tr>\n",
       "    <tr>\n",
       "      <th>2194</th>\n",
       "      <td>피엔아이시스템</td>\n",
       "      <td>242350</td>\n",
       "      <td>영화, 비디오물, 방송프로그램 제작 및 배급업</td>\n",
       "      <td>12월</td>\n",
       "      <td>konex</td>\n",
       "    </tr>\n",
       "  </tbody>\n",
       "</table>\n",
       "</div>"
      ],
      "text/plain": [
       "          회사명    종목코드                         업종  결산월 marketType\n",
       "2190      유디피  091270             소프트웨어 개발 및 공급업  12월      konex\n",
       "2191     젠큐릭스  229000                 의료용 기기 제조업  12월      konex\n",
       "2192     청광종건  140290                     토목 건설업  12월      konex\n",
       "2193     탈모닷컴  284610                기타 화학제품 제조업  12월      konex\n",
       "2194  피엔아이시스템  242350  영화, 비디오물, 방송프로그램 제작 및 배급업  12월      konex"
      ]
     },
     "execution_count": 78,
     "metadata": {},
     "output_type": "execute_result"
    }
   ],
   "source": [
    "feature_names = ['회사명', '종목코드', '업종', '결산월', 'marketType']\n",
    "stock_train = stock_df[feature_names]\n",
    "\n",
    "print(stock_train.shape)\n",
    "stock_train.tail(5)"
   ]
  },
  {
   "cell_type": "markdown",
   "metadata": {},
   "source": [
    "# 모든 종목 코드 갖고 오기"
   ]
  },
  {
   "cell_type": "code",
   "execution_count": 107,
   "metadata": {},
   "outputs": [],
   "source": [
    "def get_all_codes():\n",
    "    # kospi(유가증권)\n",
    "    #kospi_df = pd.read_html('http://kind.krx.co.kr/corpgeneral/corpList.do?method=download&searchType=13&marketType=stockMkt', index_col=[\"종목코드\"], header=0)[0]\n",
    "    kospi_df = pd.read_html('http://kind.krx.co.kr/corpgeneral/corpList.do?method=download&searchType=13&marketType=stockMkt', header=0)[0]\n",
    "    # kosdaq\n",
    "    kosdaq_df = pd.read_html('http://kind.krx.co.kr/corpgeneral/corpList.do?method=download&searchType=13&marketType=kosdaqMkt', header=0)[0]\n",
    "    # konexMkt\n",
    "    konex_df = pd.read_html('http://kind.krx.co.kr/corpgeneral/corpList.do?method=download&searchType=13&marketType=konexMkt', header=0)[0]\n",
    "    \n",
    "    kospi_df['marketType'] = 'kospi'\n",
    "    kosdaq_df['marketType'] = 'kosdaq'\n",
    "    konex_df['marketType'] = 'konexMkt'\n",
    "    print(kospi_df.shape, kosdaq_df.shape, konex_df.shape)\n",
    "    \n",
    "    frames = [kospi_df, kosdaq_df, konex_df]\n",
    "    stock_df = pd.concat(frames, ignore_index=True)\n",
    "\n",
    "    # 종목코드 6자리 맞추기\n",
    "    stock_df['종목코드'] = stock_df['종목코드'].apply(lambda x: str(x).zfill(6))\n",
    "    return stock_df"
   ]
  },
  {
   "cell_type": "code",
   "execution_count": 103,
   "metadata": {},
   "outputs": [
    {
     "name": "stdout",
     "output_type": "stream",
     "text": [
      "(777, 10) (1269, 10) (149, 10)\n"
     ]
    }
   ],
   "source": [
    "codes = get_all_codes()"
   ]
  },
  {
   "cell_type": "code",
   "execution_count": 104,
   "metadata": {},
   "outputs": [
    {
     "name": "stdout",
     "output_type": "stream",
     "text": [
      "(2195, 10)\n"
     ]
    },
    {
     "data": {
      "text/html": [
       "<div>\n",
       "<style scoped>\n",
       "    .dataframe tbody tr th:only-of-type {\n",
       "        vertical-align: middle;\n",
       "    }\n",
       "\n",
       "    .dataframe tbody tr th {\n",
       "        vertical-align: top;\n",
       "    }\n",
       "\n",
       "    .dataframe thead th {\n",
       "        text-align: right;\n",
       "    }\n",
       "</style>\n",
       "<table border=\"1\" class=\"dataframe\">\n",
       "  <thead>\n",
       "    <tr style=\"text-align: right;\">\n",
       "      <th></th>\n",
       "      <th>회사명</th>\n",
       "      <th>종목코드</th>\n",
       "      <th>업종</th>\n",
       "      <th>주요제품</th>\n",
       "      <th>상장일</th>\n",
       "      <th>결산월</th>\n",
       "      <th>대표자명</th>\n",
       "      <th>홈페이지</th>\n",
       "      <th>지역</th>\n",
       "      <th>marketType</th>\n",
       "    </tr>\n",
       "  </thead>\n",
       "  <tbody>\n",
       "    <tr>\n",
       "      <th>2190</th>\n",
       "      <td>유디피</td>\n",
       "      <td>091270</td>\n",
       "      <td>소프트웨어 개발 및 공급업</td>\n",
       "      <td>IP카메라, 지능형영상분석SW</td>\n",
       "      <td>2014-12-12</td>\n",
       "      <td>12월</td>\n",
       "      <td>안정근</td>\n",
       "      <td>http://www.udptechnology.co.kr</td>\n",
       "      <td>서울특별시</td>\n",
       "      <td>konexMkt</td>\n",
       "    </tr>\n",
       "    <tr>\n",
       "      <th>2191</th>\n",
       "      <td>젠큐릭스</td>\n",
       "      <td>229000</td>\n",
       "      <td>의료용 기기 제조업</td>\n",
       "      <td>유방암예후진단키트</td>\n",
       "      <td>2015-10-27</td>\n",
       "      <td>12월</td>\n",
       "      <td>조상래</td>\n",
       "      <td>http://www.gencurix.com</td>\n",
       "      <td>서울특별시</td>\n",
       "      <td>konexMkt</td>\n",
       "    </tr>\n",
       "    <tr>\n",
       "      <th>2192</th>\n",
       "      <td>청광종건</td>\n",
       "      <td>140290</td>\n",
       "      <td>토목 건설업</td>\n",
       "      <td>관도급, BTL, 자체사업</td>\n",
       "      <td>2013-12-20</td>\n",
       "      <td>12월</td>\n",
       "      <td>허숭</td>\n",
       "      <td>http://www.chungkwang.co.kr</td>\n",
       "      <td>서울특별시</td>\n",
       "      <td>konexMkt</td>\n",
       "    </tr>\n",
       "    <tr>\n",
       "      <th>2193</th>\n",
       "      <td>탈모닷컴</td>\n",
       "      <td>284610</td>\n",
       "      <td>기타 화학제품 제조업</td>\n",
       "      <td>탈모 샴푸 및 헤어케어 제품 등</td>\n",
       "      <td>2017-12-22</td>\n",
       "      <td>12월</td>\n",
       "      <td>장기영</td>\n",
       "      <td>http://www.talmo.com</td>\n",
       "      <td>서울특별시</td>\n",
       "      <td>konexMkt</td>\n",
       "    </tr>\n",
       "    <tr>\n",
       "      <th>2194</th>\n",
       "      <td>피엔아이시스템</td>\n",
       "      <td>242350</td>\n",
       "      <td>영화, 비디오물, 방송프로그램 제작 및 배급업</td>\n",
       "      <td>3D 애니메이션, 3D VR 시뮬레이터 및 콘텐츠</td>\n",
       "      <td>2016-12-22</td>\n",
       "      <td>12월</td>\n",
       "      <td>신재중</td>\n",
       "      <td>http://www.pnisys.com</td>\n",
       "      <td>제주특별자치도</td>\n",
       "      <td>konexMkt</td>\n",
       "    </tr>\n",
       "  </tbody>\n",
       "</table>\n",
       "</div>"
      ],
      "text/plain": [
       "          회사명    종목코드                         업종                         주요제품  \\\n",
       "2190      유디피  091270             소프트웨어 개발 및 공급업             IP카메라, 지능형영상분석SW   \n",
       "2191     젠큐릭스  229000                 의료용 기기 제조업                    유방암예후진단키트   \n",
       "2192     청광종건  140290                     토목 건설업               관도급, BTL, 자체사업   \n",
       "2193     탈모닷컴  284610                기타 화학제품 제조업            탈모 샴푸 및 헤어케어 제품 등   \n",
       "2194  피엔아이시스템  242350  영화, 비디오물, 방송프로그램 제작 및 배급업  3D 애니메이션, 3D VR 시뮬레이터 및 콘텐츠   \n",
       "\n",
       "             상장일  결산월 대표자명                            홈페이지       지역 marketType  \n",
       "2190  2014-12-12  12월  안정근  http://www.udptechnology.co.kr    서울특별시   konexMkt  \n",
       "2191  2015-10-27  12월  조상래         http://www.gencurix.com    서울특별시   konexMkt  \n",
       "2192  2013-12-20  12월   허숭     http://www.chungkwang.co.kr    서울특별시   konexMkt  \n",
       "2193  2017-12-22  12월  장기영            http://www.talmo.com    서울특별시   konexMkt  \n",
       "2194  2016-12-22  12월  신재중           http://www.pnisys.com  제주특별자치도   konexMkt  "
      ]
     },
     "execution_count": 104,
     "metadata": {},
     "output_type": "execute_result"
    }
   ],
   "source": [
    "print(codes.shape)\n",
    "codes.tail()"
   ]
  },
  {
   "cell_type": "code",
   "execution_count": 109,
   "metadata": {},
   "outputs": [],
   "source": [
    "# 재무제표 년/월 얻어오기\n",
    "import re\n",
    "from datetime import datetime\n",
    "\n",
    "def get_date_str(s):\n",
    "    date_str = ''\n",
    "    r = re.search(\"\\d{4}/\\d{2}\", s)\n",
    "    if r:\n",
    "        date_str = r.group()\n",
    "\n",
    "    return date_str"
   ]
  },
  {
   "cell_type": "code",
   "execution_count": 117,
   "metadata": {},
   "outputs": [],
   "source": [
    "def get_financial_statement(code, ifrs_type=4, unit='Y'):\n",
    "    url_tmpl = 'http://companyinfo.stock.naver.com/v1/company/ajax/cF1001.aspx?cmp_cd=%s&fin_typ=%s&freq_typ=%s'\n",
    "    url = url_tmpl % (code, ifrs_type, unit) # 삼성전자, 4(IFRS 연결), Y:년 단위\n",
    "    print(url)\n",
    "\n",
    "    dfs = pd.read_html(url, encoding='utf8')\n",
    "    df = dfs[0]\n",
    "    \n",
    "    # multi columns 제거\n",
    "    cols = list(df.columns.droplevel(0))\n",
    "    cols = [get_date_str(col) for col in cols]\n",
    "    \n",
    "    df = df.set_index('주요재무정보')\n",
    "    \n",
    "    # 컬럼이름 변경\n",
    "    df.columns = cols[0:-1]\n",
    "    \n",
    "    # index 변환\n",
    "    indexes = []\n",
    "    for i in range(0, df.index.size):\n",
    "        indexes.append(df.index[i][0])\n",
    "        \n",
    "    new_index_dict = dict(zip(df.index, indexes))\n",
    "    df.rename(new_index_dict, axis='index', inplace=True)\n",
    "    \n",
    "    # NaN을 0.0 숫자로 바꾸기\n",
    "    df.fillna(0, inplace=True)\n",
    "    \n",
    "    return df"
   ]
  },
  {
   "cell_type": "code",
   "execution_count": 116,
   "metadata": {},
   "outputs": [
    {
     "name": "stdout",
     "output_type": "stream",
     "text": [
      "http://companyinfo.stock.naver.com/v1/company/ajax/cF1001.aspx?cmp_cd=139130&fin_typ=4&freq_typ=Y\n"
     ]
    },
    {
     "data": {
      "text/html": [
       "<div>\n",
       "<style scoped>\n",
       "    .dataframe tbody tr th:only-of-type {\n",
       "        vertical-align: middle;\n",
       "    }\n",
       "\n",
       "    .dataframe tbody tr th {\n",
       "        vertical-align: top;\n",
       "    }\n",
       "\n",
       "    .dataframe thead th {\n",
       "        text-align: right;\n",
       "    }\n",
       "</style>\n",
       "<table border=\"1\" class=\"dataframe\">\n",
       "  <thead>\n",
       "    <tr style=\"text-align: right;\">\n",
       "      <th></th>\n",
       "      <th>2012/12</th>\n",
       "      <th>2013/12</th>\n",
       "      <th>2014/12</th>\n",
       "      <th>2015/12</th>\n",
       "      <th>2016/12</th>\n",
       "      <th>2017/12</th>\n",
       "      <th>2018/12</th>\n",
       "      <th>2019/12</th>\n",
       "    </tr>\n",
       "    <tr>\n",
       "      <th>주요재무정보</th>\n",
       "      <th></th>\n",
       "      <th></th>\n",
       "      <th></th>\n",
       "      <th></th>\n",
       "      <th></th>\n",
       "      <th></th>\n",
       "      <th></th>\n",
       "      <th></th>\n",
       "    </tr>\n",
       "  </thead>\n",
       "  <tbody>\n",
       "    <tr>\n",
       "      <th>매출액</th>\n",
       "      <td>24602.0</td>\n",
       "      <td>24139.0</td>\n",
       "      <td>22494.0</td>\n",
       "      <td>35077.0</td>\n",
       "      <td>36550.0</td>\n",
       "      <td>0.0</td>\n",
       "      <td>0.0</td>\n",
       "      <td>0.0</td>\n",
       "    </tr>\n",
       "    <tr>\n",
       "      <th>영업이익</th>\n",
       "      <td>3730.0</td>\n",
       "      <td>3390.0</td>\n",
       "      <td>3239.0</td>\n",
       "      <td>3430.0</td>\n",
       "      <td>3869.0</td>\n",
       "      <td>4235.0</td>\n",
       "      <td>4784.0</td>\n",
       "      <td>5131.0</td>\n",
       "    </tr>\n",
       "    <tr>\n",
       "      <th>영업이익(발표기준)</th>\n",
       "      <td>3730.0</td>\n",
       "      <td>3390.0</td>\n",
       "      <td>3239.0</td>\n",
       "      <td>3430.0</td>\n",
       "      <td>3869.0</td>\n",
       "      <td>0.0</td>\n",
       "      <td>0.0</td>\n",
       "      <td>0.0</td>\n",
       "    </tr>\n",
       "    <tr>\n",
       "      <th>세전계속사업이익</th>\n",
       "      <td>3630.0</td>\n",
       "      <td>3293.0</td>\n",
       "      <td>3172.0</td>\n",
       "      <td>3434.0</td>\n",
       "      <td>3878.0</td>\n",
       "      <td>4349.0</td>\n",
       "      <td>4927.0</td>\n",
       "      <td>5177.0</td>\n",
       "    </tr>\n",
       "    <tr>\n",
       "      <th>당기순이익</th>\n",
       "      <td>2741.0</td>\n",
       "      <td>2445.0</td>\n",
       "      <td>2438.0</td>\n",
       "      <td>3083.0</td>\n",
       "      <td>3019.0</td>\n",
       "      <td>3324.0</td>\n",
       "      <td>3706.0</td>\n",
       "      <td>3857.0</td>\n",
       "    </tr>\n",
       "  </tbody>\n",
       "</table>\n",
       "</div>"
      ],
      "text/plain": [
       "            2012/12  2013/12  2014/12  2015/12  2016/12  2017/12  2018/12  \\\n",
       "주요재무정보                                                                      \n",
       "매출액         24602.0  24139.0  22494.0  35077.0  36550.0      0.0      0.0   \n",
       "영업이익         3730.0   3390.0   3239.0   3430.0   3869.0   4235.0   4784.0   \n",
       "영업이익(발표기준)   3730.0   3390.0   3239.0   3430.0   3869.0      0.0      0.0   \n",
       "세전계속사업이익     3630.0   3293.0   3172.0   3434.0   3878.0   4349.0   4927.0   \n",
       "당기순이익        2741.0   2445.0   2438.0   3083.0   3019.0   3324.0   3706.0   \n",
       "\n",
       "            2019/12  \n",
       "주요재무정보               \n",
       "매출액             0.0  \n",
       "영업이익         5131.0  \n",
       "영업이익(발표기준)      0.0  \n",
       "세전계속사업이익     5177.0  \n",
       "당기순이익        3857.0  "
      ]
     },
     "execution_count": 116,
     "metadata": {},
     "output_type": "execute_result"
    }
   ],
   "source": [
    "\n",
    "df.head()"
   ]
  },
  {
   "cell_type": "code",
   "execution_count": null,
   "metadata": {},
   "outputs": [],
   "source": []
  },
  {
   "cell_type": "code",
   "execution_count": 118,
   "metadata": {},
   "outputs": [
    {
     "name": "stdout",
     "output_type": "stream",
     "text": [
      "http://companyinfo.stock.naver.com/v1/company/ajax/cF1001.aspx?cmp_cd=139130&fin_typ=4&freq_typ=Y\n",
      "http://companyinfo.stock.naver.com/v1/company/ajax/cF1001.aspx?cmp_cd=000540&fin_typ=4&freq_typ=Y\n",
      "http://companyinfo.stock.naver.com/v1/company/ajax/cF1001.aspx?cmp_cd=096760&fin_typ=4&freq_typ=Y\n",
      "http://companyinfo.stock.naver.com/v1/company/ajax/cF1001.aspx?cmp_cd=010060&fin_typ=4&freq_typ=Y\n",
      "http://companyinfo.stock.naver.com/v1/company/ajax/cF1001.aspx?cmp_cd=005610&fin_typ=4&freq_typ=Y\n",
      "http://companyinfo.stock.naver.com/v1/company/ajax/cF1001.aspx?cmp_cd=018670&fin_typ=4&freq_typ=Y\n",
      "http://companyinfo.stock.naver.com/v1/company/ajax/cF1001.aspx?cmp_cd=006370&fin_typ=4&freq_typ=Y\n",
      "http://companyinfo.stock.naver.com/v1/company/ajax/cF1001.aspx?cmp_cd=069460&fin_typ=4&freq_typ=Y\n",
      "http://companyinfo.stock.naver.com/v1/company/ajax/cF1001.aspx?cmp_cd=153460&fin_typ=4&freq_typ=Y\n",
      "http://companyinfo.stock.naver.com/v1/company/ajax/cF1001.aspx?cmp_cd=049630&fin_typ=4&freq_typ=Y\n",
      "http://companyinfo.stock.naver.com/v1/company/ajax/cF1001.aspx?cmp_cd=000250&fin_typ=4&freq_typ=Y\n",
      "http://companyinfo.stock.naver.com/v1/company/ajax/cF1001.aspx?cmp_cd=002230&fin_typ=4&freq_typ=Y\n",
      "http://companyinfo.stock.naver.com/v1/company/ajax/cF1001.aspx?cmp_cd=067900&fin_typ=4&freq_typ=Y\n",
      "http://companyinfo.stock.naver.com/v1/company/ajax/cF1001.aspx?cmp_cd=133750&fin_typ=4&freq_typ=Y\n",
      "http://companyinfo.stock.naver.com/v1/company/ajax/cF1001.aspx?cmp_cd=026260&fin_typ=4&freq_typ=Y\n",
      "http://companyinfo.stock.naver.com/v1/company/ajax/cF1001.aspx?cmp_cd=095910&fin_typ=4&freq_typ=Y\n",
      "http://companyinfo.stock.naver.com/v1/company/ajax/cF1001.aspx?cmp_cd=051390&fin_typ=4&freq_typ=Y\n",
      "http://companyinfo.stock.naver.com/v1/company/ajax/cF1001.aspx?cmp_cd=079970&fin_typ=4&freq_typ=Y\n",
      "http://companyinfo.stock.naver.com/v1/company/ajax/cF1001.aspx?cmp_cd=050760&fin_typ=4&freq_typ=Y\n",
      "http://companyinfo.stock.naver.com/v1/company/ajax/cF1001.aspx?cmp_cd=178920&fin_typ=4&freq_typ=Y\n",
      "http://companyinfo.stock.naver.com/v1/company/ajax/cF1001.aspx?cmp_cd=013720&fin_typ=4&freq_typ=Y\n",
      "http://companyinfo.stock.naver.com/v1/company/ajax/cF1001.aspx?cmp_cd=266870&fin_typ=4&freq_typ=Y\n"
     ]
    }
   ],
   "source": [
    "for idx, row in codes.iterrows():\n",
    "    if idx % 100 == 0:\n",
    "        df = get_financial_statement(codes.loc[idx]['종목코드'], 4, 'Y')\n",
    "        df.head(3)"
   ]
  },
  {
   "cell_type": "code",
   "execution_count": null,
   "metadata": {},
   "outputs": [],
   "source": []
  }
 ],
 "metadata": {
  "kernelspec": {
   "display_name": "Python 3",
   "language": "python",
   "name": "python3"
  },
  "language_info": {
   "codemirror_mode": {
    "name": "ipython",
    "version": 3
   },
   "file_extension": ".py",
   "mimetype": "text/x-python",
   "name": "python",
   "nbconvert_exporter": "python",
   "pygments_lexer": "ipython3",
   "version": "3.6.4"
  }
 },
 "nbformat": 4,
 "nbformat_minor": 2
}
