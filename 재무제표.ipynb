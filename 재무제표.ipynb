{
 "cells": [
  {
   "cell_type": "code",
   "execution_count": 1,
   "metadata": {},
   "outputs": [],
   "source": [
    "import pandas as pd"
   ]
  },
  {
   "cell_type": "code",
   "execution_count": 2,
   "metadata": {},
   "outputs": [],
   "source": [
    "import pandas as pd\n",
    "\n",
    "# kospi(유가증권)\n",
    "#kospi_df = pd.read_html('http://kind.krx.co.kr/corpgeneral/corpList.do?method=download&searchType=13&marketType=stockMkt', index_col=[\"종목코드\"], header=0)[0]\n",
    "kospi_df = pd.read_html('http://kind.krx.co.kr/corpgeneral/corpList.do?method=download&searchType=13&marketType=stockMkt', header=0)[0]\n",
    "\n",
    "# kosdaq\n",
    "kosdaq_df = pd.read_html('http://kind.krx.co.kr/corpgeneral/corpList.do?method=download&searchType=13&marketType=kosdaqMkt', header=0)[0]"
   ]
  },
  {
   "cell_type": "code",
   "execution_count": 3,
   "metadata": {},
   "outputs": [],
   "source": [
    "kospi_df['marketType'] = 'kospi'"
   ]
  },
  {
   "cell_type": "code",
   "execution_count": 4,
   "metadata": {},
   "outputs": [],
   "source": [
    "kosdaq_df['marketType'] = 'kosdaq'"
   ]
  },
  {
   "cell_type": "code",
   "execution_count": 5,
   "metadata": {},
   "outputs": [],
   "source": [
    "frames = [kospi_df, kosdaq_df]\n",
    "stock_df = pd.concat(frames)"
   ]
  },
  {
   "cell_type": "code",
   "execution_count": 6,
   "metadata": {},
   "outputs": [
    {
     "name": "stdout",
     "output_type": "stream",
     "text": [
      "(2046, 5)\n"
     ]
    },
    {
     "data": {
      "text/html": [
       "<div>\n",
       "<style scoped>\n",
       "    .dataframe tbody tr th:only-of-type {\n",
       "        vertical-align: middle;\n",
       "    }\n",
       "\n",
       "    .dataframe tbody tr th {\n",
       "        vertical-align: top;\n",
       "    }\n",
       "\n",
       "    .dataframe thead th {\n",
       "        text-align: right;\n",
       "    }\n",
       "</style>\n",
       "<table border=\"1\" class=\"dataframe\">\n",
       "  <thead>\n",
       "    <tr style=\"text-align: right;\">\n",
       "      <th></th>\n",
       "      <th>회사명</th>\n",
       "      <th>종목코드</th>\n",
       "      <th>업종</th>\n",
       "      <th>결산월</th>\n",
       "      <th>marketType</th>\n",
       "    </tr>\n",
       "  </thead>\n",
       "  <tbody>\n",
       "    <tr>\n",
       "      <th>0</th>\n",
       "      <td>CJ대한통운</td>\n",
       "      <td>120</td>\n",
       "      <td>도로 화물 운송업</td>\n",
       "      <td>12월</td>\n",
       "      <td>kospi</td>\n",
       "    </tr>\n",
       "    <tr>\n",
       "      <th>1</th>\n",
       "      <td>DGB금융지주</td>\n",
       "      <td>139130</td>\n",
       "      <td>기타 금융업</td>\n",
       "      <td>12월</td>\n",
       "      <td>kospi</td>\n",
       "    </tr>\n",
       "    <tr>\n",
       "      <th>2</th>\n",
       "      <td>E1</td>\n",
       "      <td>17940</td>\n",
       "      <td>기타 전문 도매업</td>\n",
       "      <td>12월</td>\n",
       "      <td>kospi</td>\n",
       "    </tr>\n",
       "    <tr>\n",
       "      <th>3</th>\n",
       "      <td>GKL</td>\n",
       "      <td>114090</td>\n",
       "      <td>유원지 및 기타 오락관련 서비스업</td>\n",
       "      <td>12월</td>\n",
       "      <td>kospi</td>\n",
       "    </tr>\n",
       "    <tr>\n",
       "      <th>4</th>\n",
       "      <td>KPX그린케미칼</td>\n",
       "      <td>83420</td>\n",
       "      <td>기타 화학제품 제조업</td>\n",
       "      <td>12월</td>\n",
       "      <td>kospi</td>\n",
       "    </tr>\n",
       "  </tbody>\n",
       "</table>\n",
       "</div>"
      ],
      "text/plain": [
       "        회사명    종목코드                  업종  결산월 marketType\n",
       "0    CJ대한통운     120           도로 화물 운송업  12월      kospi\n",
       "1   DGB금융지주  139130              기타 금융업  12월      kospi\n",
       "2        E1   17940           기타 전문 도매업  12월      kospi\n",
       "3       GKL  114090  유원지 및 기타 오락관련 서비스업  12월      kospi\n",
       "4  KPX그린케미칼   83420         기타 화학제품 제조업  12월      kospi"
      ]
     },
     "execution_count": 6,
     "metadata": {},
     "output_type": "execute_result"
    }
   ],
   "source": [
    "feature_names = ['회사명', '종목코드', '업종', '결산월', 'marketType']\n",
    "stock_train = stock_df[feature_names]\n",
    "\n",
    "print(stock_train.shape)\n",
    "stock_train.head(5)"
   ]
  },
  {
   "cell_type": "markdown",
   "metadata": {},
   "source": [
    "##"
   ]
  }
 ],
 "metadata": {
  "kernelspec": {
   "display_name": "Python 3",
   "language": "python",
   "name": "python3"
  },
  "language_info": {
   "codemirror_mode": {
    "name": "ipython",
    "version": 3
   },
   "file_extension": ".py",
   "mimetype": "text/x-python",
   "name": "python",
   "nbconvert_exporter": "python",
   "pygments_lexer": "ipython3",
   "version": "3.6.4"
  }
 },
 "nbformat": 4,
 "nbformat_minor": 2
}
