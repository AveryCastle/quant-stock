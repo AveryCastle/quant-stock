{
 "cells": [
  {
   "cell_type": "code",
   "execution_count": 8,
   "metadata": {},
   "outputs": [],
   "source": [
    "import pandas as pd"
   ]
  },
  {
   "cell_type": "code",
   "execution_count": 29,
   "metadata": {},
   "outputs": [
    {
     "name": "stdout",
     "output_type": "stream",
     "text": [
      "(777, 9)\n",
      "(1268, 9)\n",
      "(148, 9)\n"
     ]
    }
   ],
   "source": [
    "# kospi(유가증권)\n",
    "#kospi_df = pd.read_html('http://kind.krx.co.kr/corpgeneral/corpList.do?method=download&searchType=13&marketType=stockMkt', index_col=[\"종목코드\"], header=0)[0]\n",
    "kospi_df = pd.read_html('http://kind.krx.co.kr/corpgeneral/corpList.do?method=download&searchType=13&marketType=stockMkt', header=0)[0]\n",
    "print(kospi_df.shape)\n",
    "# kosdaq\n",
    "kosdaq_df = pd.read_html('http://kind.krx.co.kr/corpgeneral/corpList.do?method=download&searchType=13&marketType=kosdaqMkt', header=0)[0]\n",
    "print(kosdaq_df.shape)\n",
    "# konexMkt\n",
    "konex_df = pd.read_html('http://kind.krx.co.kr/corpgeneral/corpList.do?method=download&searchType=13&marketType=konexMkt', header=0)[0]\n",
    "print(konex_df.shape)"
   ]
  },
  {
   "cell_type": "code",
   "execution_count": 30,
   "metadata": {},
   "outputs": [],
   "source": [
    "kospi_df['marketType'] = 'kospi'\n",
    "kosdaq_df['marketType'] = 'kosdaq'\n",
    "konex_df['marketType'] = 'konex'"
   ]
  },
  {
   "cell_type": "code",
   "execution_count": 31,
   "metadata": {},
   "outputs": [
    {
     "name": "stdout",
     "output_type": "stream",
     "text": [
      "(2193, 10)\n"
     ]
    }
   ],
   "source": [
    "frames = [kospi_df, kosdaq_df, konex_df]\n",
    "stock_df = pd.concat(frames, ignore_index=True)\n",
    "print(stock_df.shape)"
   ]
  },
  {
   "cell_type": "code",
   "execution_count": 32,
   "metadata": {},
   "outputs": [],
   "source": [
    "# 6자리 고정으로 left zero padding하여 종목코드 정제하기(ex) 5404 -> 005404)\n",
    "stock_df['종목코드'] = stock_df['종목코드'].apply(lambda x: str(x).zfill(6))"
   ]
  },
  {
   "cell_type": "code",
   "execution_count": 33,
   "metadata": {},
   "outputs": [
    {
     "name": "stdout",
     "output_type": "stream",
     "text": [
      "(2193, 5)\n"
     ]
    },
    {
     "data": {
      "text/html": [
       "<div>\n",
       "<style scoped>\n",
       "    .dataframe tbody tr th:only-of-type {\n",
       "        vertical-align: middle;\n",
       "    }\n",
       "\n",
       "    .dataframe tbody tr th {\n",
       "        vertical-align: top;\n",
       "    }\n",
       "\n",
       "    .dataframe thead th {\n",
       "        text-align: right;\n",
       "    }\n",
       "</style>\n",
       "<table border=\"1\" class=\"dataframe\">\n",
       "  <thead>\n",
       "    <tr style=\"text-align: right;\">\n",
       "      <th></th>\n",
       "      <th>회사명</th>\n",
       "      <th>종목코드</th>\n",
       "      <th>업종</th>\n",
       "      <th>결산월</th>\n",
       "      <th>marketType</th>\n",
       "    </tr>\n",
       "  </thead>\n",
       "  <tbody>\n",
       "    <tr>\n",
       "      <th>2188</th>\n",
       "      <td>유디피</td>\n",
       "      <td>091270</td>\n",
       "      <td>소프트웨어 개발 및 공급업</td>\n",
       "      <td>12월</td>\n",
       "      <td>konex</td>\n",
       "    </tr>\n",
       "    <tr>\n",
       "      <th>2189</th>\n",
       "      <td>젠큐릭스</td>\n",
       "      <td>229000</td>\n",
       "      <td>의료용 기기 제조업</td>\n",
       "      <td>12월</td>\n",
       "      <td>konex</td>\n",
       "    </tr>\n",
       "    <tr>\n",
       "      <th>2190</th>\n",
       "      <td>청광종건</td>\n",
       "      <td>140290</td>\n",
       "      <td>토목 건설업</td>\n",
       "      <td>12월</td>\n",
       "      <td>konex</td>\n",
       "    </tr>\n",
       "    <tr>\n",
       "      <th>2191</th>\n",
       "      <td>탈모닷컴</td>\n",
       "      <td>284610</td>\n",
       "      <td>기타 화학제품 제조업</td>\n",
       "      <td>12월</td>\n",
       "      <td>konex</td>\n",
       "    </tr>\n",
       "    <tr>\n",
       "      <th>2192</th>\n",
       "      <td>피엔아이시스템</td>\n",
       "      <td>242350</td>\n",
       "      <td>영화, 비디오물, 방송프로그램 제작 및 배급업</td>\n",
       "      <td>12월</td>\n",
       "      <td>konex</td>\n",
       "    </tr>\n",
       "  </tbody>\n",
       "</table>\n",
       "</div>"
      ],
      "text/plain": [
       "          회사명    종목코드                         업종  결산월 marketType\n",
       "2188      유디피  091270             소프트웨어 개발 및 공급업  12월      konex\n",
       "2189     젠큐릭스  229000                 의료용 기기 제조업  12월      konex\n",
       "2190     청광종건  140290                     토목 건설업  12월      konex\n",
       "2191     탈모닷컴  284610                기타 화학제품 제조업  12월      konex\n",
       "2192  피엔아이시스템  242350  영화, 비디오물, 방송프로그램 제작 및 배급업  12월      konex"
      ]
     },
     "execution_count": 33,
     "metadata": {},
     "output_type": "execute_result"
    }
   ],
   "source": [
    "feature_names = ['회사명', '종목코드', '업종', '결산월', 'marketType']\n",
    "stock_train = stock_df[feature_names]\n",
    "\n",
    "print(stock_train.shape)\n",
    "stock_train.tail(5)"
   ]
  },
  {
   "cell_type": "markdown",
   "metadata": {},
   "source": [
    "# 모든 종목 코드 갖고 오기"
   ]
  },
  {
   "cell_type": "code",
   "execution_count": 34,
   "metadata": {},
   "outputs": [],
   "source": [
    "def get_all_codes():\n",
    "    # kospi(유가증권)\n",
    "    #kospi_df = pd.read_html('http://kind.krx.co.kr/corpgeneral/corpList.do?method=download&searchType=13&marketType=stockMkt', index_col=[\"종목코드\"], header=0)[0]\n",
    "    kospi_df = pd.read_html('http://kind.krx.co.kr/corpgeneral/corpList.do?method=download&searchType=13&marketType=stockMkt', header=0)[0]\n",
    "    # kosdaq\n",
    "    kosdaq_df = pd.read_html('http://kind.krx.co.kr/corpgeneral/corpList.do?method=download&searchType=13&marketType=kosdaqMkt', header=0)[0]\n",
    "    # konexMkt\n",
    "    konex_df = pd.read_html('http://kind.krx.co.kr/corpgeneral/corpList.do?method=download&searchType=13&marketType=konexMkt', header=0)[0]\n",
    "    \n",
    "    kospi_df['marketType'] = 'kospi'\n",
    "    kosdaq_df['marketType'] = 'kosdaq'\n",
    "    konex_df['marketType'] = 'konexMkt'\n",
    "    print(kospi_df.shape, kosdaq_df.shape, konex_df.shape)\n",
    "    \n",
    "    frames = [kospi_df, kosdaq_df, konex_df]\n",
    "    stock_df = pd.concat(frames, ignore_index=True)\n",
    "\n",
    "    # 종목코드 6자리 맞추기\n",
    "    stock_df['종목코드'] = stock_df['종목코드'].apply(lambda x: str(x).zfill(6))\n",
    "    return stock_df"
   ]
  },
  {
   "cell_type": "code",
   "execution_count": 35,
   "metadata": {},
   "outputs": [
    {
     "name": "stdout",
     "output_type": "stream",
     "text": [
      "(777, 10) (1268, 10) (148, 10)\n"
     ]
    }
   ],
   "source": [
    "codes = get_all_codes()"
   ]
  },
  {
   "cell_type": "code",
   "execution_count": 36,
   "metadata": {},
   "outputs": [
    {
     "name": "stdout",
     "output_type": "stream",
     "text": [
      "(2193, 10)\n"
     ]
    },
    {
     "data": {
      "text/html": [
       "<div>\n",
       "<style scoped>\n",
       "    .dataframe tbody tr th:only-of-type {\n",
       "        vertical-align: middle;\n",
       "    }\n",
       "\n",
       "    .dataframe tbody tr th {\n",
       "        vertical-align: top;\n",
       "    }\n",
       "\n",
       "    .dataframe thead th {\n",
       "        text-align: right;\n",
       "    }\n",
       "</style>\n",
       "<table border=\"1\" class=\"dataframe\">\n",
       "  <thead>\n",
       "    <tr style=\"text-align: right;\">\n",
       "      <th></th>\n",
       "      <th>회사명</th>\n",
       "      <th>종목코드</th>\n",
       "      <th>업종</th>\n",
       "      <th>주요제품</th>\n",
       "      <th>상장일</th>\n",
       "      <th>결산월</th>\n",
       "      <th>대표자명</th>\n",
       "      <th>홈페이지</th>\n",
       "      <th>지역</th>\n",
       "      <th>marketType</th>\n",
       "    </tr>\n",
       "  </thead>\n",
       "  <tbody>\n",
       "    <tr>\n",
       "      <th>0</th>\n",
       "      <td>BYC</td>\n",
       "      <td>001460</td>\n",
       "      <td>봉제의복 제조업</td>\n",
       "      <td>메리야스,란제리 제조,도매/건축공사/부동산 임대,분양,공급</td>\n",
       "      <td>1975-06-02</td>\n",
       "      <td>12월</td>\n",
       "      <td>유 중 화</td>\n",
       "      <td>http://www.byc.co.kr</td>\n",
       "      <td>서울특별시</td>\n",
       "      <td>kospi</td>\n",
       "    </tr>\n",
       "    <tr>\n",
       "      <th>1</th>\n",
       "      <td>CJ CGV</td>\n",
       "      <td>079160</td>\n",
       "      <td>영화, 비디오물, 방송프로그램 제작 및 배급업</td>\n",
       "      <td>영화상영,영화관 운영</td>\n",
       "      <td>2004-12-24</td>\n",
       "      <td>12월</td>\n",
       "      <td>서 정</td>\n",
       "      <td>http://www.cgv.co.kr</td>\n",
       "      <td>서울특별시</td>\n",
       "      <td>kospi</td>\n",
       "    </tr>\n",
       "    <tr>\n",
       "      <th>2</th>\n",
       "      <td>DB손해보험</td>\n",
       "      <td>005830</td>\n",
       "      <td>보험업</td>\n",
       "      <td>자동차보험,화재보험,해상보험,특종보험,장기보험</td>\n",
       "      <td>1973-06-28</td>\n",
       "      <td>12월</td>\n",
       "      <td>김정남</td>\n",
       "      <td>http://www.idbins.com</td>\n",
       "      <td>서울특별시</td>\n",
       "      <td>kospi</td>\n",
       "    </tr>\n",
       "    <tr>\n",
       "      <th>3</th>\n",
       "      <td>DSR제강</td>\n",
       "      <td>069730</td>\n",
       "      <td>1차 철강 제조업</td>\n",
       "      <td>와이어로프,각종 경강선,철선제품,PC강선,아연도 강연선 제조</td>\n",
       "      <td>2003-01-28</td>\n",
       "      <td>12월</td>\n",
       "      <td>홍하종</td>\n",
       "      <td>http://www.dsrcorp.com</td>\n",
       "      <td>전라남도</td>\n",
       "      <td>kospi</td>\n",
       "    </tr>\n",
       "    <tr>\n",
       "      <th>4</th>\n",
       "      <td>KB금융</td>\n",
       "      <td>105560</td>\n",
       "      <td>기타 금융업</td>\n",
       "      <td>-</td>\n",
       "      <td>2008-10-10</td>\n",
       "      <td>12월</td>\n",
       "      <td>윤종규</td>\n",
       "      <td>http://www.kbfg.com</td>\n",
       "      <td>서울특별시</td>\n",
       "      <td>kospi</td>\n",
       "    </tr>\n",
       "  </tbody>\n",
       "</table>\n",
       "</div>"
      ],
      "text/plain": [
       "      회사명    종목코드                         업종  \\\n",
       "0     BYC  001460                   봉제의복 제조업   \n",
       "1  CJ CGV  079160  영화, 비디오물, 방송프로그램 제작 및 배급업   \n",
       "2  DB손해보험  005830                        보험업   \n",
       "3   DSR제강  069730                  1차 철강 제조업   \n",
       "4    KB금융  105560                     기타 금융업   \n",
       "\n",
       "                                주요제품         상장일  결산월   대표자명  \\\n",
       "0   메리야스,란제리 제조,도매/건축공사/부동산 임대,분양,공급  1975-06-02  12월  유 중 화   \n",
       "1                        영화상영,영화관 운영  2004-12-24  12월    서 정   \n",
       "2          자동차보험,화재보험,해상보험,특종보험,장기보험  1973-06-28  12월    김정남   \n",
       "3  와이어로프,각종 경강선,철선제품,PC강선,아연도 강연선 제조  2003-01-28  12월    홍하종   \n",
       "4                                  -  2008-10-10  12월    윤종규   \n",
       "\n",
       "                     홈페이지     지역 marketType  \n",
       "0    http://www.byc.co.kr  서울특별시      kospi  \n",
       "1    http://www.cgv.co.kr  서울특별시      kospi  \n",
       "2   http://www.idbins.com  서울특별시      kospi  \n",
       "3  http://www.dsrcorp.com   전라남도      kospi  \n",
       "4     http://www.kbfg.com  서울특별시      kospi  "
      ]
     },
     "execution_count": 36,
     "metadata": {},
     "output_type": "execute_result"
    }
   ],
   "source": [
    "print(codes.shape)\n",
    "codes.head()"
   ]
  },
  {
   "cell_type": "markdown",
   "metadata": {},
   "source": [
    "## 특정 회사 재무제표 갖고 오기"
   ]
  },
  {
   "cell_type": "code",
   "execution_count": 37,
   "metadata": {},
   "outputs": [],
   "source": [
    "# 재무제표 년/월 얻어오기\n",
    "import re\n",
    "from datetime import datetime\n",
    "\n",
    "def get_date_str(s):\n",
    "    date_str = ''\n",
    "    r = re.search(\"\\d{4}/\\d{2}\", s)\n",
    "#     r = re.search(\"\\d{4}\", s)\n",
    "    if r:\n",
    "        date_str = r.group()\n",
    "\n",
    "    return date_str"
   ]
  },
  {
   "cell_type": "code",
   "execution_count": 38,
   "metadata": {},
   "outputs": [],
   "source": [
    "def get_financial_statement(code, ifrs_type=4, unit='Y'):\n",
    "    url_tmpl = 'http://companyinfo.stock.naver.com/v1/company/ajax/cF1001.aspx?cmp_cd=%s&fin_typ=%s&freq_typ=%s'\n",
    "    url = url_tmpl % (code, ifrs_type, unit) # 삼성전자, 4(IFRS 연결), Y:년 단위 / Q: 분기\n",
    "    print(url)\n",
    "\n",
    "    dfs = pd.read_html(url, encoding='utf8')\n",
    "    df = dfs[0]\n",
    "    \n",
    "    # multi columns 제거\n",
    "    cols = list(df.columns.droplevel(0))\n",
    "    cols = [get_date_str(col) for col in cols]\n",
    "    \n",
    "    df = df.set_index('주요재무정보')\n",
    "    \n",
    "    # 컬럼이름 변경\n",
    "    df.columns = cols[0:-1]\n",
    "    \n",
    "    # index 변환\n",
    "    indexes = []\n",
    "    for i in range(0, df.index.size):\n",
    "        indexes.append(df.index[i][0])\n",
    "        \n",
    "    new_index_dict = dict(zip(df.index, indexes))\n",
    "    df.rename(new_index_dict, axis='index', inplace=True)\n",
    "    \n",
    "    # NaN을 0.0 숫자로 바꾸기\n",
    "    df.fillna(0, inplace=True)\n",
    "    \n",
    "    return df"
   ]
  },
  {
   "cell_type": "code",
   "execution_count": 39,
   "metadata": {},
   "outputs": [
    {
     "name": "stdout",
     "output_type": "stream",
     "text": [
      "001460 BYC\n"
     ]
    }
   ],
   "source": [
    "print(codes.loc[0]['종목코드'], codes.loc[0]['회사명'])"
   ]
  },
  {
   "cell_type": "code",
   "execution_count": 40,
   "metadata": {},
   "outputs": [
    {
     "name": "stdout",
     "output_type": "stream",
     "text": [
      "http://companyinfo.stock.naver.com/v1/company/ajax/cF1001.aspx?cmp_cd=001460&fin_typ=4&freq_typ=Y\n"
     ]
    },
    {
     "data": {
      "text/html": [
       "<div>\n",
       "<style scoped>\n",
       "    .dataframe tbody tr th:only-of-type {\n",
       "        vertical-align: middle;\n",
       "    }\n",
       "\n",
       "    .dataframe tbody tr th {\n",
       "        vertical-align: top;\n",
       "    }\n",
       "\n",
       "    .dataframe thead th {\n",
       "        text-align: right;\n",
       "    }\n",
       "</style>\n",
       "<table border=\"1\" class=\"dataframe\">\n",
       "  <thead>\n",
       "    <tr style=\"text-align: right;\">\n",
       "      <th></th>\n",
       "      <th>2013/12</th>\n",
       "      <th>2014/12</th>\n",
       "      <th>2015/12</th>\n",
       "      <th>2016/12</th>\n",
       "      <th>2017/12</th>\n",
       "      <th>2018/12</th>\n",
       "      <th>2019/12</th>\n",
       "      <th>2020/12</th>\n",
       "    </tr>\n",
       "    <tr>\n",
       "      <th>주요재무정보</th>\n",
       "      <th></th>\n",
       "      <th></th>\n",
       "      <th></th>\n",
       "      <th></th>\n",
       "      <th></th>\n",
       "      <th></th>\n",
       "      <th></th>\n",
       "      <th></th>\n",
       "    </tr>\n",
       "  </thead>\n",
       "  <tbody>\n",
       "    <tr>\n",
       "      <th>매출액</th>\n",
       "      <td>1824.0</td>\n",
       "      <td>1769.0</td>\n",
       "      <td>1822.0</td>\n",
       "      <td>2119.0</td>\n",
       "      <td>1958.0</td>\n",
       "      <td>0.0</td>\n",
       "      <td>0.0</td>\n",
       "      <td>0.0</td>\n",
       "    </tr>\n",
       "    <tr>\n",
       "      <th>영업이익</th>\n",
       "      <td>251.0</td>\n",
       "      <td>279.0</td>\n",
       "      <td>211.0</td>\n",
       "      <td>162.0</td>\n",
       "      <td>172.0</td>\n",
       "      <td>0.0</td>\n",
       "      <td>0.0</td>\n",
       "      <td>0.0</td>\n",
       "    </tr>\n",
       "    <tr>\n",
       "      <th>영업이익(발표기준)</th>\n",
       "      <td>251.0</td>\n",
       "      <td>279.0</td>\n",
       "      <td>211.0</td>\n",
       "      <td>162.0</td>\n",
       "      <td>172.0</td>\n",
       "      <td>0.0</td>\n",
       "      <td>0.0</td>\n",
       "      <td>0.0</td>\n",
       "    </tr>\n",
       "    <tr>\n",
       "      <th>세전계속사업이익</th>\n",
       "      <td>219.0</td>\n",
       "      <td>249.0</td>\n",
       "      <td>177.0</td>\n",
       "      <td>207.0</td>\n",
       "      <td>96.0</td>\n",
       "      <td>0.0</td>\n",
       "      <td>0.0</td>\n",
       "      <td>0.0</td>\n",
       "    </tr>\n",
       "    <tr>\n",
       "      <th>당기순이익</th>\n",
       "      <td>155.0</td>\n",
       "      <td>190.0</td>\n",
       "      <td>132.0</td>\n",
       "      <td>175.0</td>\n",
       "      <td>62.0</td>\n",
       "      <td>0.0</td>\n",
       "      <td>0.0</td>\n",
       "      <td>0.0</td>\n",
       "    </tr>\n",
       "  </tbody>\n",
       "</table>\n",
       "</div>"
      ],
      "text/plain": [
       "            2013/12  2014/12  2015/12  2016/12  2017/12  2018/12  2019/12  \\\n",
       "주요재무정보                                                                      \n",
       "매출액          1824.0   1769.0   1822.0   2119.0   1958.0      0.0      0.0   \n",
       "영업이익          251.0    279.0    211.0    162.0    172.0      0.0      0.0   \n",
       "영업이익(발표기준)    251.0    279.0    211.0    162.0    172.0      0.0      0.0   \n",
       "세전계속사업이익      219.0    249.0    177.0    207.0     96.0      0.0      0.0   \n",
       "당기순이익         155.0    190.0    132.0    175.0     62.0      0.0      0.0   \n",
       "\n",
       "            2020/12  \n",
       "주요재무정보               \n",
       "매출액             0.0  \n",
       "영업이익            0.0  \n",
       "영업이익(발표기준)      0.0  \n",
       "세전계속사업이익        0.0  \n",
       "당기순이익           0.0  "
      ]
     },
     "execution_count": 40,
     "metadata": {},
     "output_type": "execute_result"
    }
   ],
   "source": [
    "df = get_financial_statement(codes.loc[0]['종목코드'])\n",
    "df.head()"
   ]
  },
  {
   "cell_type": "markdown",
   "metadata": {},
   "source": [
    "## 엑셀에 저장하기"
   ]
  },
  {
   "cell_type": "code",
   "execution_count": 23,
   "metadata": {},
   "outputs": [],
   "source": [
    "# 항목별로 다른 sheet에 저장하기\n",
    "def save_fincial_statement(file_name, sheet_names, inquiry_years, code, corp_nm):\n",
    "    # Create a Pandas Excel writer using XlsxWriter as the engine.\n",
    "    with pd.ExcelWriter(file_name, engine='xlsxwriter') as writer:\n",
    "        for idx, val in enumerate(sheet_names):\n",
    "            data = df[idx:idx+1][inquiry_years]\n",
    "            data.insert(0, 'corp_nm', corp_nm)\n",
    "            data.index.rename(\"\", inplace=True)\n",
    "            data.index = [code]\n",
    "#             print(data)\n",
    "            data.to_excel(writer, index=True, sheet_name=sheet_names[idx])\n",
    "        writer.save()"
   ]
  },
  {
   "cell_type": "markdown",
   "metadata": {},
   "source": [
    "## 엑셀에 데이터 추가하기"
   ]
  },
  {
   "cell_type": "code",
   "execution_count": 25,
   "metadata": {},
   "outputs": [],
   "source": [
    "from openpyxl import load_workbook"
   ]
  },
  {
   "cell_type": "code",
   "execution_count": 26,
   "metadata": {},
   "outputs": [],
   "source": [
    "def append_financial_statement(df, file_name, code, corp_nm):\n",
    "    book = load_workbook(file_name)\n",
    "    writer = pd.ExcelWriter(file_name, engine='openpyxl')\n",
    "    writer.book = book\n",
    "    for sheet_name in df.index.values:\n",
    "#         print(sheet_name, df.loc[sheet_name]['2016/12'], df.loc[sheet_name]['2017/12'])\n",
    "        writer.book[sheet_name].append([code, corp_nm, df.loc[sheet_name]['2016'], df.loc[sheet_name]['2017']])\n",
    "    writer.save()"
   ]
  },
  {
   "cell_type": "markdown",
   "metadata": {},
   "source": [
    "## 모든 회사의 재무제표 읽기"
   ]
  },
  {
   "cell_type": "code",
   "execution_count": 27,
   "metadata": {},
   "outputs": [],
   "source": [
    "def get_all_finacial_statements(file_name, datas):    \n",
    "    for idx, row in datas.iterrows():\n",
    "        code = datas.loc[idx]['종목코드']\n",
    "        corp_nm = datas.loc[idx]['회사명']\n",
    "        df = get_financial_statement(code, 4, 'Y')\n",
    "        if idx == 0:\n",
    "            save_fincial_statement(file_name, df.index.values, ['2016', '2017'], code, corp_nm)\n",
    "        else:\n",
    "            append_financial_statement(df, file_name, code, corp_nm)\n",
    "        if idx % 500 == 0:\n",
    "            print(df.head(3))"
   ]
  },
  {
   "cell_type": "code",
   "execution_count": 28,
   "metadata": {},
   "outputs": [
    {
     "name": "stdout",
     "output_type": "stream",
     "text": [
      "http://companyinfo.stock.naver.com/v1/company/ajax/cF1001.aspx?cmp_cd=068400&fin_typ=4&freq_typ=Y\n",
      "              2013    2014    2015    2016    2017  2018  2019  2020\n",
      "주요재무정보                                                              \n",
      "매출액         4757.0  5700.0  6321.0  6476.0  6368.0   0.0   0.0   0.0\n",
      "영업이익         445.0   437.0   403.0   327.0   409.0   0.0   0.0   0.0\n",
      "영업이익(발표기준)   445.0   437.0   403.0   327.0   409.0   0.0   0.0   0.0\n",
      "http://companyinfo.stock.naver.com/v1/company/ajax/cF1001.aspx?cmp_cd=139130&fin_typ=4&freq_typ=Y\n",
      "http://companyinfo.stock.naver.com/v1/company/ajax/cF1001.aspx?cmp_cd=017940&fin_typ=4&freq_typ=Y\n",
      "http://companyinfo.stock.naver.com/v1/company/ajax/cF1001.aspx?cmp_cd=114090&fin_typ=4&freq_typ=Y\n",
      "http://companyinfo.stock.naver.com/v1/company/ajax/cF1001.aspx?cmp_cd=083420&fin_typ=4&freq_typ=Y\n",
      "http://companyinfo.stock.naver.com/v1/company/ajax/cF1001.aspx?cmp_cd=000040&fin_typ=4&freq_typ=Y\n",
      "http://companyinfo.stock.naver.com/v1/company/ajax/cF1001.aspx?cmp_cd=051910&fin_typ=4&freq_typ=Y\n",
      "http://companyinfo.stock.naver.com/v1/company/ajax/cF1001.aspx?cmp_cd=010120&fin_typ=4&freq_typ=Y\n",
      "http://companyinfo.stock.naver.com/v1/company/ajax/cF1001.aspx?cmp_cd=034730&fin_typ=4&freq_typ=Y\n",
      "http://companyinfo.stock.naver.com/v1/company/ajax/cF1001.aspx?cmp_cd=002710&fin_typ=4&freq_typ=Y\n",
      "http://companyinfo.stock.naver.com/v1/company/ajax/cF1001.aspx?cmp_cd=035250&fin_typ=4&freq_typ=Y\n",
      "http://companyinfo.stock.naver.com/v1/company/ajax/cF1001.aspx?cmp_cd=012200&fin_typ=4&freq_typ=Y\n",
      "http://companyinfo.stock.naver.com/v1/company/ajax/cF1001.aspx?cmp_cd=011780&fin_typ=4&freq_typ=Y\n",
      "http://companyinfo.stock.naver.com/v1/company/ajax/cF1001.aspx?cmp_cd=073240&fin_typ=4&freq_typ=Y\n",
      "http://companyinfo.stock.naver.com/v1/company/ajax/cF1001.aspx?cmp_cd=092440&fin_typ=4&freq_typ=Y\n",
      "http://companyinfo.stock.naver.com/v1/company/ajax/cF1001.aspx?cmp_cd=013700&fin_typ=4&freq_typ=Y\n",
      "http://companyinfo.stock.naver.com/v1/company/ajax/cF1001.aspx?cmp_cd=004540&fin_typ=4&freq_typ=Y\n",
      "http://companyinfo.stock.naver.com/v1/company/ajax/cF1001.aspx?cmp_cd=003920&fin_typ=4&freq_typ=Y\n",
      "http://companyinfo.stock.naver.com/v1/company/ajax/cF1001.aspx?cmp_cd=025860&fin_typ=4&freq_typ=Y\n",
      "http://companyinfo.stock.naver.com/v1/company/ajax/cF1001.aspx?cmp_cd=000490&fin_typ=4&freq_typ=Y\n",
      "http://companyinfo.stock.naver.com/v1/company/ajax/cF1001.aspx?cmp_cd=016710&fin_typ=4&freq_typ=Y\n",
      "http://companyinfo.stock.naver.com/v1/company/ajax/cF1001.aspx?cmp_cd=002880&fin_typ=4&freq_typ=Y\n",
      "http://companyinfo.stock.naver.com/v1/company/ajax/cF1001.aspx?cmp_cd=024900&fin_typ=4&freq_typ=Y\n",
      "http://companyinfo.stock.naver.com/v1/company/ajax/cF1001.aspx?cmp_cd=001230&fin_typ=4&freq_typ=Y\n",
      "http://companyinfo.stock.naver.com/v1/company/ajax/cF1001.aspx?cmp_cd=004140&fin_typ=4&freq_typ=Y\n",
      "http://companyinfo.stock.naver.com/v1/company/ajax/cF1001.aspx?cmp_cd=102260&fin_typ=4&freq_typ=Y\n",
      "http://companyinfo.stock.naver.com/v1/company/ajax/cF1001.aspx?cmp_cd=000640&fin_typ=4&freq_typ=Y\n",
      "http://companyinfo.stock.naver.com/v1/company/ajax/cF1001.aspx?cmp_cd=030790&fin_typ=4&freq_typ=Y\n",
      "http://companyinfo.stock.naver.com/v1/company/ajax/cF1001.aspx?cmp_cd=002900&fin_typ=4&freq_typ=Y\n",
      "http://companyinfo.stock.naver.com/v1/company/ajax/cF1001.aspx?cmp_cd=082640&fin_typ=4&freq_typ=Y\n",
      "http://companyinfo.stock.naver.com/v1/company/ajax/cF1001.aspx?cmp_cd=030720&fin_typ=4&freq_typ=Y\n",
      "http://companyinfo.stock.naver.com/v1/company/ajax/cF1001.aspx?cmp_cd=014820&fin_typ=4&freq_typ=Y\n",
      "http://companyinfo.stock.naver.com/v1/company/ajax/cF1001.aspx?cmp_cd=004890&fin_typ=4&freq_typ=Y\n",
      "http://companyinfo.stock.naver.com/v1/company/ajax/cF1001.aspx?cmp_cd=002690&fin_typ=4&freq_typ=Y\n",
      "http://companyinfo.stock.naver.com/v1/company/ajax/cF1001.aspx?cmp_cd=000020&fin_typ=4&freq_typ=Y\n",
      "http://companyinfo.stock.naver.com/v1/company/ajax/cF1001.aspx?cmp_cd=082740&fin_typ=4&freq_typ=Y\n",
      "http://companyinfo.stock.naver.com/v1/company/ajax/cF1001.aspx?cmp_cd=034020&fin_typ=4&freq_typ=Y\n",
      "http://companyinfo.stock.naver.com/v1/company/ajax/cF1001.aspx?cmp_cd=027740&fin_typ=4&freq_typ=Y\n",
      "http://companyinfo.stock.naver.com/v1/company/ajax/cF1001.aspx?cmp_cd=001080&fin_typ=4&freq_typ=Y\n",
      "http://companyinfo.stock.naver.com/v1/company/ajax/cF1001.aspx?cmp_cd=014580&fin_typ=4&freq_typ=Y\n",
      "http://companyinfo.stock.naver.com/v1/company/ajax/cF1001.aspx?cmp_cd=009150&fin_typ=4&freq_typ=Y\n",
      "http://companyinfo.stock.naver.com/v1/company/ajax/cF1001.aspx?cmp_cd=005930&fin_typ=4&freq_typ=Y\n",
      "http://companyinfo.stock.naver.com/v1/company/ajax/cF1001.aspx?cmp_cd=004380&fin_typ=4&freq_typ=Y\n",
      "http://companyinfo.stock.naver.com/v1/company/ajax/cF1001.aspx?cmp_cd=004690&fin_typ=4&freq_typ=Y\n",
      "http://companyinfo.stock.naver.com/v1/company/ajax/cF1001.aspx?cmp_cd=007540&fin_typ=4&freq_typ=Y\n",
      "http://companyinfo.stock.naver.com/v1/company/ajax/cF1001.aspx?cmp_cd=248170&fin_typ=4&freq_typ=Y\n",
      "http://companyinfo.stock.naver.com/v1/company/ajax/cF1001.aspx?cmp_cd=021050&fin_typ=4&freq_typ=Y\n",
      "http://companyinfo.stock.naver.com/v1/company/ajax/cF1001.aspx?cmp_cd=136490&fin_typ=4&freq_typ=Y\n",
      "http://companyinfo.stock.naver.com/v1/company/ajax/cF1001.aspx?cmp_cd=000180&fin_typ=4&freq_typ=Y\n",
      "http://companyinfo.stock.naver.com/v1/company/ajax/cF1001.aspx?cmp_cd=019440&fin_typ=4&freq_typ=Y\n",
      "http://companyinfo.stock.naver.com/v1/company/ajax/cF1001.aspx?cmp_cd=091090&fin_typ=4&freq_typ=Y\n",
      "http://companyinfo.stock.naver.com/v1/company/ajax/cF1001.aspx?cmp_cd=075580&fin_typ=4&freq_typ=Y\n",
      "http://companyinfo.stock.naver.com/v1/company/ajax/cF1001.aspx?cmp_cd=145210&fin_typ=4&freq_typ=Y\n",
      "http://companyinfo.stock.naver.com/v1/company/ajax/cF1001.aspx?cmp_cd=004430&fin_typ=4&freq_typ=Y\n",
      "http://companyinfo.stock.naver.com/v1/company/ajax/cF1001.aspx?cmp_cd=031430&fin_typ=4&freq_typ=Y\n",
      "http://companyinfo.stock.naver.com/v1/company/ajax/cF1001.aspx?cmp_cd=006880&fin_typ=4&freq_typ=Y\n",
      "http://companyinfo.stock.naver.com/v1/company/ajax/cF1001.aspx?cmp_cd=019170&fin_typ=4&freq_typ=Y\n",
      "http://companyinfo.stock.naver.com/v1/company/ajax/cF1001.aspx?cmp_cd=003560&fin_typ=4&freq_typ=Y\n",
      "http://companyinfo.stock.naver.com/v1/company/ajax/cF1001.aspx?cmp_cd=101140&fin_typ=4&freq_typ=Y\n",
      "http://companyinfo.stock.naver.com/v1/company/ajax/cF1001.aspx?cmp_cd=001780&fin_typ=4&freq_typ=Y\n",
      "http://companyinfo.stock.naver.com/v1/company/ajax/cF1001.aspx?cmp_cd=012750&fin_typ=4&freq_typ=Y\n",
      "http://companyinfo.stock.naver.com/v1/company/ajax/cF1001.aspx?cmp_cd=078520&fin_typ=4&freq_typ=Y\n",
      "http://companyinfo.stock.naver.com/v1/company/ajax/cF1001.aspx?cmp_cd=004250&fin_typ=4&freq_typ=Y\n",
      "http://companyinfo.stock.naver.com/v1/company/ajax/cF1001.aspx?cmp_cd=002630&fin_typ=4&freq_typ=Y\n",
      "http://companyinfo.stock.naver.com/v1/company/ajax/cF1001.aspx?cmp_cd=271560&fin_typ=4&freq_typ=Y\n",
      "http://companyinfo.stock.naver.com/v1/company/ajax/cF1001.aspx?cmp_cd=010600&fin_typ=4&freq_typ=Y\n",
      "http://companyinfo.stock.naver.com/v1/company/ajax/cF1001.aspx?cmp_cd=103130&fin_typ=4&freq_typ=Y\n",
      "http://companyinfo.stock.naver.com/v1/company/ajax/cF1001.aspx?cmp_cd=033270&fin_typ=4&freq_typ=Y\n",
      "http://companyinfo.stock.naver.com/v1/company/ajax/cF1001.aspx?cmp_cd=077500&fin_typ=4&freq_typ=Y\n",
      "http://companyinfo.stock.naver.com/v1/company/ajax/cF1001.aspx?cmp_cd=000220&fin_typ=4&freq_typ=Y\n"
     ]
    },
    {
     "ename": "ValueError",
     "evalue": "Cannot convert 2017    716.0\n2017    629.0\nName: 매출액, dtype: float64 to Excel",
     "output_type": "error",
     "traceback": [
      "\u001b[0;31m---------------------------------------------------------------------------\u001b[0m",
      "\u001b[0;31mValueError\u001b[0m                                Traceback (most recent call last)",
      "\u001b[0;32m<ipython-input-28-992a19263d11>\u001b[0m in \u001b[0;36m<module>\u001b[0;34m()\u001b[0m\n\u001b[0;32m----> 1\u001b[0;31m \u001b[0mget_all_finacial_statements\u001b[0m\u001b[0;34m(\u001b[0m\u001b[0;34m'test.xlsx'\u001b[0m\u001b[0;34m,\u001b[0m \u001b[0mcodes\u001b[0m\u001b[0;34m)\u001b[0m\u001b[0;34m\u001b[0m\u001b[0m\n\u001b[0m",
      "\u001b[0;32m<ipython-input-27-6f9dd9c877c3>\u001b[0m in \u001b[0;36mget_all_finacial_statements\u001b[0;34m(file_name, datas)\u001b[0m\n\u001b[1;32m      7\u001b[0m             \u001b[0msave_fincial_statement\u001b[0m\u001b[0;34m(\u001b[0m\u001b[0mfile_name\u001b[0m\u001b[0;34m,\u001b[0m \u001b[0mdf\u001b[0m\u001b[0;34m.\u001b[0m\u001b[0mindex\u001b[0m\u001b[0;34m.\u001b[0m\u001b[0mvalues\u001b[0m\u001b[0;34m,\u001b[0m \u001b[0;34m[\u001b[0m\u001b[0;34m'2016'\u001b[0m\u001b[0;34m,\u001b[0m \u001b[0;34m'2017'\u001b[0m\u001b[0;34m]\u001b[0m\u001b[0;34m,\u001b[0m \u001b[0mcode\u001b[0m\u001b[0;34m,\u001b[0m \u001b[0mcorp_nm\u001b[0m\u001b[0;34m)\u001b[0m\u001b[0;34m\u001b[0m\u001b[0m\n\u001b[1;32m      8\u001b[0m         \u001b[0;32melse\u001b[0m\u001b[0;34m:\u001b[0m\u001b[0;34m\u001b[0m\u001b[0m\n\u001b[0;32m----> 9\u001b[0;31m             \u001b[0mappend_financial_statement\u001b[0m\u001b[0;34m(\u001b[0m\u001b[0mdf\u001b[0m\u001b[0;34m,\u001b[0m \u001b[0mfile_name\u001b[0m\u001b[0;34m,\u001b[0m \u001b[0mcode\u001b[0m\u001b[0;34m,\u001b[0m \u001b[0mcorp_nm\u001b[0m\u001b[0;34m)\u001b[0m\u001b[0;34m\u001b[0m\u001b[0m\n\u001b[0m\u001b[1;32m     10\u001b[0m         \u001b[0;32mif\u001b[0m \u001b[0midx\u001b[0m \u001b[0;34m%\u001b[0m \u001b[0;36m500\u001b[0m \u001b[0;34m==\u001b[0m \u001b[0;36m0\u001b[0m\u001b[0;34m:\u001b[0m\u001b[0;34m\u001b[0m\u001b[0m\n\u001b[1;32m     11\u001b[0m             \u001b[0mprint\u001b[0m\u001b[0;34m(\u001b[0m\u001b[0mdf\u001b[0m\u001b[0;34m.\u001b[0m\u001b[0mhead\u001b[0m\u001b[0;34m(\u001b[0m\u001b[0;36m3\u001b[0m\u001b[0;34m)\u001b[0m\u001b[0;34m)\u001b[0m\u001b[0;34m\u001b[0m\u001b[0m\n",
      "\u001b[0;32m<ipython-input-26-717a2f9a0672>\u001b[0m in \u001b[0;36mappend_financial_statement\u001b[0;34m(df, file_name, code, corp_nm)\u001b[0m\n\u001b[1;32m      5\u001b[0m     \u001b[0;32mfor\u001b[0m \u001b[0msheet_name\u001b[0m \u001b[0;32min\u001b[0m \u001b[0mdf\u001b[0m\u001b[0;34m.\u001b[0m\u001b[0mindex\u001b[0m\u001b[0;34m.\u001b[0m\u001b[0mvalues\u001b[0m\u001b[0;34m:\u001b[0m\u001b[0;34m\u001b[0m\u001b[0m\n\u001b[1;32m      6\u001b[0m \u001b[0;31m#         print(sheet_name, df.loc[sheet_name]['2016/12'], df.loc[sheet_name]['2017/12'])\u001b[0m\u001b[0;34m\u001b[0m\u001b[0;34m\u001b[0m\u001b[0m\n\u001b[0;32m----> 7\u001b[0;31m         \u001b[0mwriter\u001b[0m\u001b[0;34m.\u001b[0m\u001b[0mbook\u001b[0m\u001b[0;34m[\u001b[0m\u001b[0msheet_name\u001b[0m\u001b[0;34m]\u001b[0m\u001b[0;34m.\u001b[0m\u001b[0mappend\u001b[0m\u001b[0;34m(\u001b[0m\u001b[0;34m[\u001b[0m\u001b[0mcode\u001b[0m\u001b[0;34m,\u001b[0m \u001b[0mcorp_nm\u001b[0m\u001b[0;34m,\u001b[0m \u001b[0mdf\u001b[0m\u001b[0;34m.\u001b[0m\u001b[0mloc\u001b[0m\u001b[0;34m[\u001b[0m\u001b[0msheet_name\u001b[0m\u001b[0;34m]\u001b[0m\u001b[0;34m[\u001b[0m\u001b[0;34m'2016'\u001b[0m\u001b[0;34m]\u001b[0m\u001b[0;34m,\u001b[0m \u001b[0mdf\u001b[0m\u001b[0;34m.\u001b[0m\u001b[0mloc\u001b[0m\u001b[0;34m[\u001b[0m\u001b[0msheet_name\u001b[0m\u001b[0;34m]\u001b[0m\u001b[0;34m[\u001b[0m\u001b[0;34m'2017'\u001b[0m\u001b[0;34m]\u001b[0m\u001b[0;34m]\u001b[0m\u001b[0;34m)\u001b[0m\u001b[0;34m\u001b[0m\u001b[0m\n\u001b[0m\u001b[1;32m      8\u001b[0m     \u001b[0mwriter\u001b[0m\u001b[0;34m.\u001b[0m\u001b[0msave\u001b[0m\u001b[0;34m(\u001b[0m\u001b[0;34m)\u001b[0m\u001b[0;34m\u001b[0m\u001b[0m\n",
      "\u001b[0;32m~/workspace/quant-stock/venv/lib/python3.6/site-packages/openpyxl/worksheet/worksheet.py\u001b[0m in \u001b[0;36mappend\u001b[0;34m(self, iterable)\u001b[0m\n\u001b[1;32m    767\u001b[0m                     \u001b[0mcell\u001b[0m\u001b[0;34m.\u001b[0m\u001b[0mrow\u001b[0m \u001b[0;34m=\u001b[0m \u001b[0mrow_idx\u001b[0m\u001b[0;34m\u001b[0m\u001b[0m\n\u001b[1;32m    768\u001b[0m                 \u001b[0;32melse\u001b[0m\u001b[0;34m:\u001b[0m\u001b[0;34m\u001b[0m\u001b[0m\n\u001b[0;32m--> 769\u001b[0;31m                     \u001b[0mcell\u001b[0m \u001b[0;34m=\u001b[0m \u001b[0mCell\u001b[0m\u001b[0;34m(\u001b[0m\u001b[0mself\u001b[0m\u001b[0;34m,\u001b[0m \u001b[0mrow\u001b[0m\u001b[0;34m=\u001b[0m\u001b[0mrow_idx\u001b[0m\u001b[0;34m,\u001b[0m \u001b[0mcol_idx\u001b[0m\u001b[0;34m=\u001b[0m\u001b[0mcol_idx\u001b[0m\u001b[0;34m,\u001b[0m \u001b[0mvalue\u001b[0m\u001b[0;34m=\u001b[0m\u001b[0mcontent\u001b[0m\u001b[0;34m)\u001b[0m\u001b[0;34m\u001b[0m\u001b[0m\n\u001b[0m\u001b[1;32m    770\u001b[0m                 \u001b[0mself\u001b[0m\u001b[0;34m.\u001b[0m\u001b[0m_cells\u001b[0m\u001b[0;34m[\u001b[0m\u001b[0;34m(\u001b[0m\u001b[0mrow_idx\u001b[0m\u001b[0;34m,\u001b[0m \u001b[0mcol_idx\u001b[0m\u001b[0;34m)\u001b[0m\u001b[0;34m]\u001b[0m \u001b[0;34m=\u001b[0m \u001b[0mcell\u001b[0m\u001b[0;34m\u001b[0m\u001b[0m\n\u001b[1;32m    771\u001b[0m \u001b[0;34m\u001b[0m\u001b[0m\n",
      "\u001b[0;32m~/workspace/quant-stock/venv/lib/python3.6/site-packages/openpyxl/cell/cell.py\u001b[0m in \u001b[0;36m__init__\u001b[0;34m(self, worksheet, column, row, value, col_idx, style_array)\u001b[0m\n\u001b[1;32m    113\u001b[0m         \u001b[0mself\u001b[0m\u001b[0;34m.\u001b[0m\u001b[0mdata_type\u001b[0m \u001b[0;34m=\u001b[0m \u001b[0;34m'n'\u001b[0m\u001b[0;34m\u001b[0m\u001b[0m\n\u001b[1;32m    114\u001b[0m         \u001b[0;32mif\u001b[0m \u001b[0mvalue\u001b[0m \u001b[0;32mis\u001b[0m \u001b[0;32mnot\u001b[0m \u001b[0;32mNone\u001b[0m\u001b[0;34m:\u001b[0m\u001b[0;34m\u001b[0m\u001b[0m\n\u001b[0;32m--> 115\u001b[0;31m             \u001b[0mself\u001b[0m\u001b[0;34m.\u001b[0m\u001b[0mvalue\u001b[0m \u001b[0;34m=\u001b[0m \u001b[0mvalue\u001b[0m\u001b[0;34m\u001b[0m\u001b[0m\n\u001b[0m\u001b[1;32m    116\u001b[0m         \u001b[0mself\u001b[0m\u001b[0;34m.\u001b[0m\u001b[0m_comment\u001b[0m \u001b[0;34m=\u001b[0m \u001b[0;32mNone\u001b[0m\u001b[0;34m\u001b[0m\u001b[0m\n\u001b[1;32m    117\u001b[0m         \u001b[0;32mif\u001b[0m \u001b[0mcolumn\u001b[0m \u001b[0;32mis\u001b[0m \u001b[0;32mnot\u001b[0m \u001b[0;32mNone\u001b[0m\u001b[0;34m:\u001b[0m\u001b[0;34m\u001b[0m\u001b[0m\n",
      "\u001b[0;32m~/workspace/quant-stock/venv/lib/python3.6/site-packages/openpyxl/cell/cell.py\u001b[0m in \u001b[0;36mvalue\u001b[0;34m(self, value)\u001b[0m\n\u001b[1;32m    297\u001b[0m     \u001b[0;32mdef\u001b[0m \u001b[0mvalue\u001b[0m\u001b[0;34m(\u001b[0m\u001b[0mself\u001b[0m\u001b[0;34m,\u001b[0m \u001b[0mvalue\u001b[0m\u001b[0;34m)\u001b[0m\u001b[0;34m:\u001b[0m\u001b[0;34m\u001b[0m\u001b[0m\n\u001b[1;32m    298\u001b[0m         \u001b[0;34m\"\"\"Set the value and infer type and display options.\"\"\"\u001b[0m\u001b[0;34m\u001b[0m\u001b[0m\n\u001b[0;32m--> 299\u001b[0;31m         \u001b[0mself\u001b[0m\u001b[0;34m.\u001b[0m\u001b[0m_bind_value\u001b[0m\u001b[0;34m(\u001b[0m\u001b[0mvalue\u001b[0m\u001b[0;34m)\u001b[0m\u001b[0;34m\u001b[0m\u001b[0m\n\u001b[0m\u001b[1;32m    300\u001b[0m \u001b[0;34m\u001b[0m\u001b[0m\n\u001b[1;32m    301\u001b[0m     \u001b[0;34m@\u001b[0m\u001b[0mproperty\u001b[0m\u001b[0;34m\u001b[0m\u001b[0m\n",
      "\u001b[0;32m~/workspace/quant-stock/venv/lib/python3.6/site-packages/openpyxl/cell/cell.py\u001b[0m in \u001b[0;36m_bind_value\u001b[0;34m(self, value)\u001b[0m\n\u001b[1;32m    204\u001b[0m \u001b[0;34m\u001b[0m\u001b[0m\n\u001b[1;32m    205\u001b[0m         \u001b[0;32melif\u001b[0m \u001b[0mvalue\u001b[0m \u001b[0;32mis\u001b[0m \u001b[0;32mnot\u001b[0m \u001b[0;32mNone\u001b[0m\u001b[0;34m:\u001b[0m\u001b[0;34m\u001b[0m\u001b[0m\n\u001b[0;32m--> 206\u001b[0;31m             \u001b[0;32mraise\u001b[0m \u001b[0mValueError\u001b[0m\u001b[0;34m(\u001b[0m\u001b[0;34m\"Cannot convert {0!r} to Excel\"\u001b[0m\u001b[0;34m.\u001b[0m\u001b[0mformat\u001b[0m\u001b[0;34m(\u001b[0m\u001b[0mvalue\u001b[0m\u001b[0;34m)\u001b[0m\u001b[0;34m)\u001b[0m\u001b[0;34m\u001b[0m\u001b[0m\n\u001b[0m\u001b[1;32m    207\u001b[0m \u001b[0;34m\u001b[0m\u001b[0m\n\u001b[1;32m    208\u001b[0m         \u001b[0mself\u001b[0m\u001b[0;34m.\u001b[0m\u001b[0m_value\u001b[0m \u001b[0;34m=\u001b[0m \u001b[0mvalue\u001b[0m\u001b[0;34m\u001b[0m\u001b[0m\n",
      "\u001b[0;31mValueError\u001b[0m: Cannot convert 2017    716.0\n2017    629.0\nName: 매출액, dtype: float64 to Excel"
     ]
    }
   ],
   "source": [
    "get_all_finacial_statements('test.xlsx', codes)"
   ]
  },
  {
   "cell_type": "code",
   "execution_count": 54,
   "metadata": {},
   "outputs": [
    {
     "data": {
      "text/html": [
       "<div>\n",
       "<style scoped>\n",
       "    .dataframe tbody tr th:only-of-type {\n",
       "        vertical-align: middle;\n",
       "    }\n",
       "\n",
       "    .dataframe tbody tr th {\n",
       "        vertical-align: top;\n",
       "    }\n",
       "\n",
       "    .dataframe thead th {\n",
       "        text-align: right;\n",
       "    }\n",
       "</style>\n",
       "<table border=\"1\" class=\"dataframe\">\n",
       "  <thead>\n",
       "    <tr style=\"text-align: right;\">\n",
       "      <th></th>\n",
       "      <th>회사명</th>\n",
       "      <th>종목코드</th>\n",
       "      <th>업종</th>\n",
       "      <th>주요제품</th>\n",
       "      <th>상장일</th>\n",
       "      <th>결산월</th>\n",
       "      <th>대표자명</th>\n",
       "      <th>홈페이지</th>\n",
       "      <th>지역</th>\n",
       "      <th>marketType</th>\n",
       "    </tr>\n",
       "  </thead>\n",
       "  <tbody>\n",
       "    <tr>\n",
       "      <th>0</th>\n",
       "      <td>AJ렌터카</td>\n",
       "      <td>068400</td>\n",
       "      <td>운송장비 임대업</td>\n",
       "      <td>승용자동차 임대</td>\n",
       "      <td>2012-07-27</td>\n",
       "      <td>12월</td>\n",
       "      <td>홍성관</td>\n",
       "      <td>http://www.ajrentacar.co.kr</td>\n",
       "      <td>서울특별시</td>\n",
       "      <td>kospi</td>\n",
       "    </tr>\n",
       "    <tr>\n",
       "      <th>1</th>\n",
       "      <td>DGB금융지주</td>\n",
       "      <td>139130</td>\n",
       "      <td>기타 금융업</td>\n",
       "      <td>지주회사</td>\n",
       "      <td>2011-06-07</td>\n",
       "      <td>12월</td>\n",
       "      <td>박인규</td>\n",
       "      <td>http://www.dgbfg.co.kr</td>\n",
       "      <td>대구광역시</td>\n",
       "      <td>kospi</td>\n",
       "    </tr>\n",
       "  </tbody>\n",
       "</table>\n",
       "</div>"
      ],
      "text/plain": [
       "       회사명    종목코드        업종      주요제품         상장일  결산월 대표자명  \\\n",
       "0    AJ렌터카  068400  운송장비 임대업  승용자동차 임대  2012-07-27  12월  홍성관   \n",
       "1  DGB금융지주  139130    기타 금융업      지주회사  2011-06-07  12월  박인규   \n",
       "\n",
       "                          홈페이지     지역 marketType  \n",
       "0  http://www.ajrentacar.co.kr  서울특별시      kospi  \n",
       "1       http://www.dgbfg.co.kr  대구광역시      kospi  "
      ]
     },
     "execution_count": 54,
     "metadata": {},
     "output_type": "execute_result"
    }
   ],
   "source": [
    "codes[0:2]"
   ]
  },
  {
   "cell_type": "code",
   "execution_count": null,
   "metadata": {},
   "outputs": [],
   "source": []
  }
 ],
 "metadata": {
  "kernelspec": {
   "display_name": "Python 3",
   "language": "python",
   "name": "python3"
  },
  "language_info": {
   "codemirror_mode": {
    "name": "ipython",
    "version": 3
   },
   "file_extension": ".py",
   "mimetype": "text/x-python",
   "name": "python",
   "nbconvert_exporter": "python",
   "pygments_lexer": "ipython3",
   "version": "3.6.4"
  }
 },
 "nbformat": 4,
 "nbformat_minor": 2
}
