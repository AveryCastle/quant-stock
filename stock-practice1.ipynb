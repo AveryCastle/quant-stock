{
 "cells": [
  {
   "cell_type": "code",
   "execution_count": 63,
   "metadata": {},
   "outputs": [],
   "source": [
    "import pandas as pd\n",
    "import numpy as np"
   ]
  },
  {
   "cell_type": "code",
   "execution_count": 64,
   "metadata": {},
   "outputs": [
    {
     "data": {
      "text/html": [
       "<div>\n",
       "<style scoped>\n",
       "    .dataframe tbody tr th:only-of-type {\n",
       "        vertical-align: middle;\n",
       "    }\n",
       "\n",
       "    .dataframe tbody tr th {\n",
       "        vertical-align: top;\n",
       "    }\n",
       "\n",
       "    .dataframe thead th {\n",
       "        text-align: right;\n",
       "    }\n",
       "</style>\n",
       "<table border=\"1\" class=\"dataframe\">\n",
       "  <thead>\n",
       "    <tr style=\"text-align: right;\">\n",
       "      <th></th>\n",
       "      <th>코드\n",
       " 번호</th>\n",
       "      <th>회사명</th>\n",
       "      <th>주가</th>\n",
       "      <th>시가총액</th>\n",
       "      <th>총자산\n",
       " (억)</th>\n",
       "      <th>매출액\n",
       " (억)</th>\n",
       "    </tr>\n",
       "  </thead>\n",
       "  <tbody>\n",
       "    <tr>\n",
       "      <th>0</th>\n",
       "      <td>A005930</td>\n",
       "      <td>삼성전자</td>\n",
       "      <td>2,539,000</td>\n",
       "      <td>3,277,811</td>\n",
       "      <td>2,893,917</td>\n",
       "      <td>2,395,970</td>\n",
       "    </tr>\n",
       "    <tr>\n",
       "      <th>1</th>\n",
       "      <td>A000660</td>\n",
       "      <td>SK하이닉스</td>\n",
       "      <td>75,500</td>\n",
       "      <td>549,642</td>\n",
       "      <td>407,227</td>\n",
       "      <td>301,094</td>\n",
       "    </tr>\n",
       "    <tr>\n",
       "      <th>2</th>\n",
       "      <td>A005380</td>\n",
       "      <td>현대차</td>\n",
       "      <td>152,500</td>\n",
       "      <td>335,922</td>\n",
       "      <td>1,760,299</td>\n",
       "      <td>963,761</td>\n",
       "    </tr>\n",
       "    <tr>\n",
       "      <th>3</th>\n",
       "      <td>A005490</td>\n",
       "      <td>POSCO</td>\n",
       "      <td>395,000</td>\n",
       "      <td>344,388</td>\n",
       "      <td>761,813</td>\n",
       "      <td>606,551</td>\n",
       "    </tr>\n",
       "    <tr>\n",
       "      <th>4</th>\n",
       "      <td>A035420</td>\n",
       "      <td>NAVER</td>\n",
       "      <td>927,000</td>\n",
       "      <td>305,564</td>\n",
       "      <td>70,490</td>\n",
       "      <td>46,785</td>\n",
       "    </tr>\n",
       "  </tbody>\n",
       "</table>\n",
       "</div>"
      ],
      "text/plain": [
       "   코드\\n 번호     회사명         주가       시가총액  총자산\\n (억)  매출액\\n (억)\n",
       "0  A005930    삼성전자  2,539,000  3,277,811  2,893,917  2,395,970\n",
       "1  A000660  SK하이닉스     75,500    549,642    407,227    301,094\n",
       "2  A005380     현대차    152,500    335,922  1,760,299    963,761\n",
       "3  A005490   POSCO    395,000    344,388    761,813    606,551\n",
       "4  A035420   NAVER    927,000    305,564     70,490     46,785"
      ]
     },
     "execution_count": 64,
     "metadata": {},
     "output_type": "execute_result"
    }
   ],
   "source": [
    "dataOf2017 = pd.read_csv(\"datas/2017-kospi_kosdaq.csv\")\n",
    "dataOf2017.head()"
   ]
  },
  {
   "cell_type": "code",
   "execution_count": 65,
   "metadata": {},
   "outputs": [
    {
     "name": "stdout",
     "output_type": "stream",
     "text": [
      "(2005, 6)\n"
     ]
    },
    {
     "data": {
      "text/html": [
       "<div>\n",
       "<style scoped>\n",
       "    .dataframe tbody tr th:only-of-type {\n",
       "        vertical-align: middle;\n",
       "    }\n",
       "\n",
       "    .dataframe tbody tr th {\n",
       "        vertical-align: top;\n",
       "    }\n",
       "\n",
       "    .dataframe thead th {\n",
       "        text-align: right;\n",
       "    }\n",
       "</style>\n",
       "<table border=\"1\" class=\"dataframe\">\n",
       "  <thead>\n",
       "    <tr style=\"text-align: right;\">\n",
       "      <th></th>\n",
       "      <th>code_number</th>\n",
       "      <th>corporate</th>\n",
       "      <th>stock</th>\n",
       "      <th>market_capitalization</th>\n",
       "      <th>assets</th>\n",
       "      <th>sales</th>\n",
       "    </tr>\n",
       "  </thead>\n",
       "  <tbody>\n",
       "    <tr>\n",
       "      <th>0</th>\n",
       "      <td>A005930</td>\n",
       "      <td>삼성전자</td>\n",
       "      <td>2,539,000</td>\n",
       "      <td>3,277,811</td>\n",
       "      <td>2,893,917</td>\n",
       "      <td>2,395,970</td>\n",
       "    </tr>\n",
       "    <tr>\n",
       "      <th>1</th>\n",
       "      <td>A000660</td>\n",
       "      <td>SK하이닉스</td>\n",
       "      <td>75,500</td>\n",
       "      <td>549,642</td>\n",
       "      <td>407,227</td>\n",
       "      <td>301,094</td>\n",
       "    </tr>\n",
       "    <tr>\n",
       "      <th>2</th>\n",
       "      <td>A005380</td>\n",
       "      <td>현대차</td>\n",
       "      <td>152,500</td>\n",
       "      <td>335,922</td>\n",
       "      <td>1,760,299</td>\n",
       "      <td>963,761</td>\n",
       "    </tr>\n",
       "    <tr>\n",
       "      <th>3</th>\n",
       "      <td>A005490</td>\n",
       "      <td>POSCO</td>\n",
       "      <td>395,000</td>\n",
       "      <td>344,388</td>\n",
       "      <td>761,813</td>\n",
       "      <td>606,551</td>\n",
       "    </tr>\n",
       "    <tr>\n",
       "      <th>4</th>\n",
       "      <td>A035420</td>\n",
       "      <td>NAVER</td>\n",
       "      <td>927,000</td>\n",
       "      <td>305,564</td>\n",
       "      <td>70,490</td>\n",
       "      <td>46,785</td>\n",
       "    </tr>\n",
       "  </tbody>\n",
       "</table>\n",
       "</div>"
      ],
      "text/plain": [
       "  code_number corporate      stock market_capitalization     assets      sales\n",
       "0     A005930      삼성전자  2,539,000             3,277,811  2,893,917  2,395,970\n",
       "1     A000660    SK하이닉스     75,500               549,642    407,227    301,094\n",
       "2     A005380       현대차    152,500               335,922  1,760,299    963,761\n",
       "3     A005490     POSCO    395,000               344,388    761,813    606,551\n",
       "4     A035420     NAVER    927,000               305,564     70,490     46,785"
      ]
     },
     "execution_count": 65,
     "metadata": {},
     "output_type": "execute_result"
    }
   ],
   "source": [
    "dataOf2017.rename(index=str, columns={dataOf2017.columns[0]: \"code_number\",\n",
    "                                      \"회사명\": \"corporate\",\n",
    "                                      dataOf2017.columns[2]: \"stock\",\n",
    "                                      dataOf2017.columns[3]: \"market_capitalization\",\n",
    "                                      dataOf2017.columns[4]: \"assets\",\n",
    "                                      dataOf2017.columns[5]: \"sales\"}, inplace=True)\n",
    "\n",
    "print(dataOf2017.shape)\n",
    "dataOf2017.head()"
   ]
  },
  {
   "cell_type": "code",
   "execution_count": 76,
   "metadata": {},
   "outputs": [
    {
     "data": {
      "text/plain": [
       "code_number              object\n",
       "corporate                object\n",
       "stock                    object\n",
       "market_capitalization    object\n",
       "assets                   object\n",
       "sales                    object\n",
       "dtype: object"
      ]
     },
     "execution_count": 76,
     "metadata": {},
     "output_type": "execute_result"
    }
   ],
   "source": [
    "dataOf2017.dtypes"
   ]
  },
  {
   "cell_type": "code",
   "execution_count": 81,
   "metadata": {},
   "outputs": [
    {
     "data": {
      "text/plain": [
       "0       2,539,000\n",
       "1          75,500\n",
       "2         152,500\n",
       "3         395,000\n",
       "4         927,000\n",
       "5         435,500\n",
       "6         136,500\n",
       "7         130,000\n",
       "8         418,000\n",
       "9          36,050\n",
       "10        246,000\n",
       "11         67,400\n",
       "12         51,800\n",
       "13        300,000\n",
       "14        267,500\n",
       "15        324,000\n",
       "16        198,000\n",
       "17        312,000\n",
       "18      1,174,000\n",
       "19        103,000\n",
       "20        175,500\n",
       "21        260,000\n",
       "22         94,200\n",
       "23        109,000\n",
       "24        115,500\n",
       "25         51,200\n",
       "26         33,500\n",
       "27        207,000\n",
       "28        279,500\n",
       "29        406,500\n",
       "          ...    \n",
       "1975        1,995\n",
       "1976         2040\n",
       "1977         1995\n",
       "1978         2145\n",
       "1979         1990\n",
       "1980         1990\n",
       "1981         2030\n",
       "1982            0\n",
       "1983         2035\n",
       "1984         1995\n",
       "1985         2030\n",
       "1986         2015\n",
       "1987         2000\n",
       "1988         2030\n",
       "1989         2055\n",
       "1990         1980\n",
       "1991         2020\n",
       "1992         3900\n",
       "1993         2000\n",
       "1994         2015\n",
       "1995         2015\n",
       "1996         2005\n",
       "1997         2130\n",
       "1998         2025\n",
       "1999         3640\n",
       "2000         2055\n",
       "2001         2025\n",
       "2002         3880\n",
       "2003         2390\n",
       "2004       173000\n",
       "Name: stock, Length: 2005, dtype: object"
      ]
     },
     "execution_count": 81,
     "metadata": {},
     "output_type": "execute_result"
    }
   ],
   "source": [
    "# for i, v in dataOf2017.iterrows():\n",
    "#     print(type(v.code_number), type(v.corporate), type(v.stock), type(v.market_capitalization), type(v.assets), type(v.sales))\n",
    "    \n",
    "dataOf2017.stock = dataOf2017.stock.replace(\",\", \"\")\n",
    "# pd.to_numeric(dataOf2017.stock, errors='coerce', downcast='signed')\n",
    "# df.column_name = df.column_name.astype(np.int64)"
   ]
  },
  {
   "cell_type": "code",
   "execution_count": 39,
   "metadata": {},
   "outputs": [
    {
     "ename": "ValueError",
     "evalue": "Unable to parse string \"2,539,000\" at position 0",
     "output_type": "error",
     "traceback": [
      "\u001b[0;31m---------------------------------------------------------------------------\u001b[0m",
      "\u001b[0;31mValueError\u001b[0m                                Traceback (most recent call last)",
      "\u001b[0;32mpandas/_libs/src/inference.pyx\u001b[0m in \u001b[0;36mpandas._libs.lib.maybe_convert_numeric\u001b[0;34m()\u001b[0m\n",
      "\u001b[0;31mValueError\u001b[0m: Unable to parse string \"2,539,000\"",
      "\nDuring handling of the above exception, another exception occurred:\n",
      "\u001b[0;31mValueError\u001b[0m                                Traceback (most recent call last)",
      "\u001b[0;32m<ipython-input-39-f61eff2b6d06>\u001b[0m in \u001b[0;36m<module>\u001b[0;34m()\u001b[0m\n\u001b[0;32m----> 1\u001b[0;31m \u001b[0mdataOf2017\u001b[0m\u001b[0;34m[\u001b[0m\u001b[0;34m\"stock\"\u001b[0m\u001b[0;34m]\u001b[0m \u001b[0;34m=\u001b[0m \u001b[0mpd\u001b[0m\u001b[0;34m.\u001b[0m\u001b[0mto_numeric\u001b[0m\u001b[0;34m(\u001b[0m\u001b[0mdataOf2017\u001b[0m\u001b[0;34m[\u001b[0m\u001b[0;34m\"stock\"\u001b[0m\u001b[0;34m]\u001b[0m\u001b[0;34m,\u001b[0m \u001b[0mdowncast\u001b[0m\u001b[0;34m=\u001b[0m\u001b[0;34m'integer'\u001b[0m\u001b[0;34m)\u001b[0m\u001b[0;34m\u001b[0m\u001b[0m\n\u001b[0m\u001b[1;32m      2\u001b[0m \u001b[0;34m\u001b[0m\u001b[0m\n\u001b[1;32m      3\u001b[0m \u001b[0;31m#dataOf2017[\"PSR\"] = dataOf2017[\"market_capitalization\"] / dataOf2017[\"sales\"]\u001b[0m\u001b[0;34m\u001b[0m\u001b[0;34m\u001b[0m\u001b[0m\n",
      "\u001b[0;32m~/workspace/quant-stock/venv/lib/python3.6/site-packages/pandas/core/tools/numeric.py\u001b[0m in \u001b[0;36mto_numeric\u001b[0;34m(arg, errors, downcast)\u001b[0m\n\u001b[1;32m    131\u001b[0m             \u001b[0mcoerce_numeric\u001b[0m \u001b[0;34m=\u001b[0m \u001b[0;32mFalse\u001b[0m \u001b[0;32mif\u001b[0m \u001b[0merrors\u001b[0m \u001b[0;32min\u001b[0m \u001b[0;34m(\u001b[0m\u001b[0;34m'ignore'\u001b[0m\u001b[0;34m,\u001b[0m \u001b[0;34m'raise'\u001b[0m\u001b[0;34m)\u001b[0m \u001b[0;32melse\u001b[0m \u001b[0;32mTrue\u001b[0m\u001b[0;34m\u001b[0m\u001b[0m\n\u001b[1;32m    132\u001b[0m             values = lib.maybe_convert_numeric(values, set(),\n\u001b[0;32m--> 133\u001b[0;31m                                                coerce_numeric=coerce_numeric)\n\u001b[0m\u001b[1;32m    134\u001b[0m \u001b[0;34m\u001b[0m\u001b[0m\n\u001b[1;32m    135\u001b[0m     \u001b[0;32mexcept\u001b[0m \u001b[0mException\u001b[0m\u001b[0;34m:\u001b[0m\u001b[0;34m\u001b[0m\u001b[0m\n",
      "\u001b[0;32mpandas/_libs/src/inference.pyx\u001b[0m in \u001b[0;36mpandas._libs.lib.maybe_convert_numeric\u001b[0;34m()\u001b[0m\n",
      "\u001b[0;31mValueError\u001b[0m: Unable to parse string \"2,539,000\" at position 0"
     ]
    }
   ],
   "source": [
    "# dataOf2017[\"stock\"] = pd.to_numeric(dataOf2017[\"stock\"], downcast='integer')\n",
    "\n",
    "#dataOf2017[\"PSR\"] = dataOf2017[\"market_capitalization\"] / dataOf2017[\"sales\"]"
   ]
  },
  {
   "cell_type": "code",
   "execution_count": null,
   "metadata": {},
   "outputs": [],
   "source": []
  }
 ],
 "metadata": {
  "kernelspec": {
   "display_name": "Python 3",
   "language": "python",
   "name": "python3"
  },
  "language_info": {
   "codemirror_mode": {
    "name": "ipython",
    "version": 3
   },
   "file_extension": ".py",
   "mimetype": "text/x-python",
   "name": "python",
   "nbconvert_exporter": "python",
   "pygments_lexer": "ipython3",
   "version": "3.6.4"
  }
 },
 "nbformat": 4,
 "nbformat_minor": 2
}
