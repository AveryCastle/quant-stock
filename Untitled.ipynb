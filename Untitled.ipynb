{
 "cells": [
  {
   "cell_type": "code",
   "execution_count": 3,
   "metadata": {},
   "outputs": [
    {
     "ename": "NameError",
     "evalue": "name 'df' is not defined",
     "output_type": "error",
     "traceback": [
      "\u001b[0;31m---------------------------------------------------------------------------\u001b[0m",
      "\u001b[0;31mNameError\u001b[0m                                 Traceback (most recent call last)",
      "\u001b[0;32m<ipython-input-3-7066f8a88f4b>\u001b[0m in \u001b[0;36m<module>\u001b[0;34m()\u001b[0m\n\u001b[1;32m     52\u001b[0m \u001b[0;34m\u001b[0m\u001b[0m\n\u001b[1;32m     53\u001b[0m \u001b[0;34m\u001b[0m\u001b[0m\n\u001b[0;32m---> 54\u001b[0;31m \u001b[0mdf\u001b[0m\u001b[0;34m.\u001b[0m\u001b[0mcolumns\u001b[0m\u001b[0;34m=\u001b[0m\u001b[0;34m[\u001b[0m\u001b[0;34m'매출액'\u001b[0m\u001b[0;34m,\u001b[0m\u001b[0;34m'영업이익'\u001b[0m\u001b[0;34m,\u001b[0m\u001b[0;34m'세전계속사업이익'\u001b[0m\u001b[0;34m,\u001b[0m\u001b[0;34m'당기순이익'\u001b[0m\u001b[0;34m,\u001b[0m\u001b[0;34m'당기순이익(지배)'\u001b[0m\u001b[0;34m,\u001b[0m\u001b[0;34m'당기순이익(비지배)'\u001b[0m\u001b[0;34m,\u001b[0m\u001b[0;34m'자산총계'\u001b[0m\u001b[0;34m,\u001b[0m\u001b[0;34m'부채총계'\u001b[0m\u001b[0;34m,\u001b[0m\u001b[0;34m'자본총계'\u001b[0m\u001b[0;34m,\u001b[0m\u001b[0;34m'자본총계(지배)'\u001b[0m\u001b[0;34m,\u001b[0m\u001b[0;34m'자본총계(비지배)'\u001b[0m\u001b[0;34m,\u001b[0m\u001b[0;34m'자본금'\u001b[0m\u001b[0;34m,\u001b[0m\u001b[0;34m'영업활동현금흐름'\u001b[0m\u001b[0;34m,\u001b[0m\u001b[0;34m'투자활동현금흐름'\u001b[0m\u001b[0;34m,\u001b[0m\u001b[0;34m'재무활동현금흐름'\u001b[0m\u001b[0;34m,\u001b[0m\u001b[0;34m'CAPEX'\u001b[0m\u001b[0;34m,\u001b[0m\u001b[0;34m'FCF'\u001b[0m\u001b[0;34m,\u001b[0m\u001b[0;34m'이자발생부채'\u001b[0m\u001b[0;34m,\u001b[0m\u001b[0;34m'영업이익률'\u001b[0m\u001b[0;34m,\u001b[0m\u001b[0;34m'순이익률'\u001b[0m\u001b[0;34m,\u001b[0m\u001b[0;34m'ROE(%)'\u001b[0m\u001b[0;34m,\u001b[0m\u001b[0;34m'ROA(%)'\u001b[0m\u001b[0;34m,\u001b[0m\u001b[0;34m'부채비율'\u001b[0m\u001b[0;34m,\u001b[0m\u001b[0;34m'자본유보율'\u001b[0m\u001b[0;34m,\u001b[0m\u001b[0;34m'EPS(원)'\u001b[0m\u001b[0;34m,\u001b[0m\u001b[0;34m'PER(배)'\u001b[0m\u001b[0;34m,\u001b[0m\u001b[0;34m'BPS(원)'\u001b[0m\u001b[0;34m,\u001b[0m\u001b[0;34m'PBR(배)'\u001b[0m\u001b[0;34m,\u001b[0m\u001b[0;34m'현금DPS(원)'\u001b[0m\u001b[0;34m,\u001b[0m\u001b[0;34m'현금배당수익률'\u001b[0m\u001b[0;34m,\u001b[0m\u001b[0;34m'현금배당성향(%)'\u001b[0m\u001b[0;34m,\u001b[0m\u001b[0;34m'발행주식수(보통주)'\u001b[0m\u001b[0;34m]\u001b[0m\u001b[0;34m\u001b[0m\u001b[0m\n\u001b[0m\u001b[1;32m     55\u001b[0m \u001b[0mdf\u001b[0m\u001b[0;34m[\u001b[0m\u001b[0;34m[\u001b[0m\u001b[0;34m'ROE(%)'\u001b[0m\u001b[0;34m,\u001b[0m \u001b[0;34m'ROA(%)'\u001b[0m\u001b[0;34m]\u001b[0m\u001b[0;34m]\u001b[0m\u001b[0;34m.\u001b[0m\u001b[0mplot\u001b[0m\u001b[0;34m(\u001b[0m\u001b[0;34m)\u001b[0m\u001b[0;34m\u001b[0m\u001b[0m\n",
      "\u001b[0;31mNameError\u001b[0m: name 'df' is not defined"
     ]
    }
   ],
   "source": [
    "import re\n",
    "from datetime import datetime\n",
    "import pandas as pd\n",
    "import requests\n",
    "from bs4 import BeautifulSoup\n",
    "\n",
    "'''\n",
    "get_date_str(s) - 문자열 s 에서 \"YYYY/MM\" 문자열 추출\n",
    "'''\n",
    "def get_date_str(s):\n",
    " date_str = ''\n",
    " r = re.search(\"\\d{4}/\\d{2}\", str(s))\n",
    " if r:\n",
    "     date_str = r.group()\n",
    " date_str = date_str.replace('/', '-')\n",
    "\n",
    " return date_str\n",
    "\n",
    "'''\n",
    "* code: 종목코드\n",
    "* fin_type = '0': 재무제표 종류 (0: 주재무제표, 1: GAAP개별, 2: GAAP연결, 3: IFRS별도, 4:IFRS연결)\n",
    "* freq_type = 'Y': 기간 (Y:년, Q:분기)\n",
    "'''\n",
    "def get_finstate_naver(code, fin_type='0', freq_type='Y'):\n",
    " url_tmpl = 'http://companyinfo.stock.naver.com/v1/company/ajax/cF1001.aspx?' \\\n",
    " 'cmp_cd=%s&fin_typ=%s&freq_typ=%s'\n",
    "\n",
    " url = url_tmpl % (code, fin_type, freq_type)\n",
    " #print(url)\n",
    "\n",
    " dfs = pd.read_html(url, encoding=\"utf-8\")\n",
    " df = dfs[0]\n",
    " if df.ix[0,0].find('해당 데이터가 존재하지 않습니다') >= 0:\n",
    "     return None\n",
    "\n",
    " df.rename(columns={'주요재무정보':'date'}, inplace=True)\n",
    " df.set_index('date', inplace=True)\n",
    "\n",
    " cols = list(df.columns)\n",
    " if '연간' in cols: cols.remove('연간')\n",
    " if '분기' in cols: cols.remove('분기')\n",
    "\n",
    " cols = [get_date_str(x) for x in cols]\n",
    " df = df.ix[:, :-1]\n",
    " df.columns = cols[0:len(df)]\n",
    " dft = df.T\n",
    " dft.index = pd.to_datetime(dft.index)\n",
    "\n",
    " # remove if index is NaT\n",
    " dft = dft[pd.notnull(dft.index)]\n",
    " return dft\n",
    "\n",
    "\n",
    "\n",
    "# df.columns=['매출액','영업이익','세전계속사업이익','당기순이익','당기순이익(지배)','당기순이익(비지배)','자산총계','부채총계','자본총계','자본총계(지배)','자본총계(비지배)','자본금','영업활동현금흐름','투자활동현금흐름','재무활동현금흐름','CAPEX','FCF','이자발생부채','영업이익률','순이익률','ROE(%)','ROA(%)','부채비율','자본유보율','EPS(원)','PER(배)','BPS(원)','PBR(배)','현금DPS(원)','현금배당수익률','현금배당성향(%)','발행주식수(보통주)']\n",
    "# df[['ROE(%)', 'ROA(%)']].plot()"
   ]
  },
  {
   "cell_type": "code",
   "execution_count": null,
   "metadata": {},
   "outputs": [],
   "source": [
    "df = get_finstate_naver('097950')"
   ]
  },
  {
   "cell_type": "code",
   "execution_count": null,
   "metadata": {},
   "outputs": [],
   "source": [
    "# df.columns=['매출액','영업이익','세전계속사업이익','당기순이익','당기순이익(지배)','당기순이익(비지배)','자산총계','부채총계','자본총계','자본총계(지배)','자본총계(비지배)','자본금','영업활동현금흐름','투자활동현금흐름','재무활동현금흐름','CAPEX','FCF','이자발생부채','영업이익률','순이익률','ROE(%)','ROA(%)','부채비율','자본유보율','EPS(원)','PER(배)','BPS(원)','PBR(배)','현금DPS(원)','현금배당수익률','현금배당성향(%)','발행주식수(보통주)']\n",
    "# df[['ROE(%)', 'ROA(%)']].plot()"
   ]
  }
 ],
 "metadata": {
  "kernelspec": {
   "display_name": "Python 3",
   "language": "python",
   "name": "python3"
  },
  "language_info": {
   "codemirror_mode": {
    "name": "ipython",
    "version": 3
   },
   "file_extension": ".py",
   "mimetype": "text/x-python",
   "name": "python",
   "nbconvert_exporter": "python",
   "pygments_lexer": "ipython3",
   "version": "3.6.4"
  }
 },
 "nbformat": 4,
 "nbformat_minor": 2
}
